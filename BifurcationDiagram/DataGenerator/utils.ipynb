{
 "cells": [
  {
   "cell_type": "code",
   "execution_count": 1,
   "metadata": {},
   "outputs": [],
   "source": [
    "from collections.abc import Iterable\n",
    "import numba as nb\n",
    "import numpy as np\n",
    "import matplotlib.pyplot as plt"
   ]
  },
  {
   "cell_type": "markdown",
   "metadata": {},
   "source": [
    "### Оценка среднего расстояния, пройденного волной."
   ]
  },
  {
   "cell_type": "code",
   "execution_count": 2,
   "metadata": {},
   "outputs": [],
   "source": [
    "def _tus_from_args(storage, t_min, t_max, tus):\n",
    "    if storage:\n",
    "        tus = storage.load_tus(t_min=t_min, t_max=t_max)\n",
    "    elif storage is None and tus is not None:\n",
    "        idx = np.logical_and(tus[:, 0] >= t_min, tus[:, 0] <= t_max)\n",
    "        tus = tus[idx]\n",
    "    else:\n",
    "        raise ValueError('Neither storage nor tus is specified.')\n",
    "    return tus"
   ]
  },
  {
   "cell_type": "code",
   "execution_count": 3,
   "metadata": {},
   "outputs": [],
   "source": [
    "@nb.njit('f8(f8[:, :])')\n",
    "def integrate_trapeze(tus):\n",
    "    res = 0.\n",
    "    for i in range(1, tus.shape[0]):\n",
    "        res += (tus[i, 1] + tus[i - 1, 1]) * (tus[i, 0] - tus[i - 1, 0])\n",
    "    res *= 0.5\n",
    "    return res"
   ]
  },
  {
   "cell_type": "code",
   "execution_count": 4,
   "metadata": {},
   "outputs": [],
   "source": [
    "@nb.njit\n",
    "def _find_minima_idx(tus):\n",
    "    idx = []\n",
    "    i = 0\n",
    "    while i < tus.shape[0] - 2:\n",
    "        i += 1\n",
    "        while not (tus[i - 1, 1] > tus[i, 1] < tus[i + 1, 1]) and i + 1 < tus.shape[0] - 1:\n",
    "            i += 1\n",
    "        idx.append(i)\n",
    "    if idx:\n",
    "        idx.pop()\n",
    "    return np.array(idx)"
   ]
  },
  {
   "cell_type": "code",
   "execution_count": null,
   "metadata": {},
   "outputs": [],
   "source": [
    "@nb.njit\n",
    "def _find_maxima_idx(tus):\n",
    "    idx = []\n",
    "    i = 0\n",
    "    while i < tus.shape[0] - 2:\n",
    "        i += 1\n",
    "        while not (tus[i - 1, 1] < tus[i, 1] > tus[i + 1, 1]) and i + 1 < tus.shape[0] - 1:\n",
    "            i += 1\n",
    "        idx.append(i)\n",
    "    if idx:\n",
    "        idx.pop()\n",
    "    return np.array(idx)"
   ]
  },
  {
   "cell_type": "code",
   "execution_count": 5,
   "metadata": {},
   "outputs": [],
   "source": [
    "def find_minima(storage=None, t_min=1000, t_max=np.inf,\n",
    "                plot=False, ret_idx=False, main=False, tus=None):\n",
    "    '''Finds points of tus with minimal us'''\n",
    "    tus = _tus_from_args(storage, t_min, t_max, tus)\n",
    "    idx = _find_minima_idx(tus)\n",
    "    minima = tus[idx, :]\n",
    "    if main:\n",
    "        ptp = minima[minima[:, 0] >= 1000, 1].ptp()\n",
    "        if ptp > 5e-4:\n",
    "            while True:\n",
    "                minima_next, idx_next = \\\n",
    "                    find_minima(tus=minima, t_min=t_min, t_max=t_max, ret_idx=True)\n",
    "                if np.unique(minima_next[:, 1]).size < 2 or ptp < 5e-6:\n",
    "                    break\n",
    "                minima, idx = minima_next, idx[idx_next]\n",
    "                ptp = minima_next[:, 1].ptp()\n",
    "    if plot:\n",
    "        plt.plot(tus[:, 0], tus[:, 1])\n",
    "        plt.gcf().set_size_inches((10, 5))\n",
    "        plt.grid()\n",
    "        plt.minorticks_on()\n",
    "        plt.grid(which='minor', linestyle=':', linewidth='0.5', color='grey')\n",
    "        plt.scatter(minima[:, 0], minima[:, 1], c='red', marker='x')\n",
    "    if ret_idx:\n",
    "        return minima, idx\n",
    "    return minima"
   ]
  },
  {
   "cell_type": "code",
   "execution_count": null,
   "metadata": {},
   "outputs": [],
   "source": [
    "def find_maxima(storage=None, t_min=1000, t_max=np.inf,\n",
    "                plot=False, ret_idx=False, main=False, tus=None):\n",
    "    '''Finds points of tus with minimal us'''\n",
    "    tus = _tus_from_args(storage, t_min, t_max, tus)\n",
    "    idx = _find_maxima_idx(tus)\n",
    "    maxima = tus[idx, :]\n",
    "    if main:\n",
    "        ptp = maxima[maxima[:, 0] >= 1000, 1].ptp()\n",
    "        if ptp > 5e-4:\n",
    "            while True:\n",
    "                maxima_next, idx_next = \\\n",
    "                    find_maxima(tus=maxima, t_min=t_min, t_max=t_max, ret_idx=True)\n",
    "                if np.unique(maxima_next[:, 1]).size < 2 or ptp < 5e-6:\n",
    "                    break\n",
    "                maxima, idx = maxima_next, idx[idx_next]\n",
    "                ptp = maxima_next[:, 1].ptp()\n",
    "    if plot:\n",
    "        plt.plot(tus[:, 0], tus[:, 1])\n",
    "        plt.gcf().set_size_inches((10, 5))\n",
    "        plt.grid()\n",
    "        plt.minorticks_on()\n",
    "        plt.grid(which='minor', linestyle=':', linewidth='0.5', color='grey')\n",
    "        plt.scatter(maxima[:, 0], maxima[:, 1], c='red', marker='x')\n",
    "    if ret_idx:\n",
    "        return maxima, idx\n",
    "    return maxima"
   ]
  }
 ],
 "metadata": {
  "kernelspec": {
   "display_name": "Python 3 (ipykernel)",
   "language": "python",
   "name": "python3"
  },
  "language_info": {
   "codemirror_mode": {
    "name": "ipython",
    "version": 3
   },
   "file_extension": ".py",
   "mimetype": "text/x-python",
   "name": "python",
   "nbconvert_exporter": "python",
   "pygments_lexer": "ipython3",
   "version": "3.9.7"
  }
 },
 "nbformat": 4,
 "nbformat_minor": 2
}
