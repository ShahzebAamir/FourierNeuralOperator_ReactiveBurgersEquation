{
 "cells": [
  {
   "cell_type": "markdown",
   "id": "139229a2",
   "metadata": {},
   "source": [
    "# Data Generator (Saved in CSV)\n",
    "   \n",
    "Add values of $\\alpha$, $\\beta$, Length, Grid points, and Amplitude in the function.\n",
    "The Wave Number is None for now"
   ]
  },
  {
   "cell_type": "code",
   "execution_count": 72,
   "id": "781de58d",
   "metadata": {},
   "outputs": [],
   "source": [
    "import pandas as pd\n",
    "import numpy as np\n",
    "from math import erf as erf_, sin, exp as exp_\n",
    "from numpy import pi, sqrt, random\n",
    "import numba as nb\n",
    "from scipy.io import savemat\n",
    "import warnings\n",
    "import torch\n",
    "warnings.filterwarnings('ignore')\n",
    "\n",
    "\n",
    "def DataGenerator(alpha, beta=0.1, L=6, t=500, N=200, amp=0, CSV=False):\n",
    "    %run ./Data_Generator/KFRequation_u.ipynb\n",
    "    par = {\n",
    "    'alpha': alpha,\n",
    "    'beta': beta,\n",
    "    'L': L,\n",
    "    'N': N,\n",
    "    'amp': amp\n",
    "    }\n",
    "    for wn in [None]:\n",
    "        par['wn'] = wn\n",
    "        tmax = 3000 if wn == 0.01 else t\n",
    "        kfr_equation(tmax=tmax, **par)\n",
    "        \n",
    "    def loader(alpha, amp):\n",
    "        _path = '../comp_res'\n",
    "        fullpath = os.path.join(_path)\n",
    "        filename = f'amp_{amp}' + f'alpha_{alpha}' \n",
    "        shock=np.load(os.path.join(filename + '.npz'))\n",
    "        return shock\n",
    "    \n",
    "    shock = loader(par['alpha'], 0)\n",
    "    @nb.vectorize(('f8(f8)'))\n",
    "    def erf(x):\n",
    "        return erf_(x)\n",
    "\n",
    "    L=L\n",
    "    N=N\n",
    "    dx = L / N  # grid size\n",
    "\n",
    "    x = np.empty(N + 7)\n",
    "    x[0:3] = [(-L + dx * i) for i in [-3, -2, -1]]  # left ghost points\n",
    "    x[3:N + 4] = [(-L + dx * i) for i in range(N + 1)]  # internal grid points on [-L,0]\n",
    "    x[N + 4:N + 7] = np.arange(1, 4) * dx  # grid points ahead of the shock\n",
    "    \n",
    "    t=shock['t']\n",
    "    u=shock['u']\n",
    "    t=np.array([t])\n",
    "    x=np.array([x])\n",
    "    \n",
    "    matDict = {\"t\": t.T, \"x\": x.T, \"u\": np.transpose(u)}\n",
    "    \n",
    "    if CSV==True:\n",
    "        filename = f'amp_{amp}' + f'alpha_{alpha}'\n",
    "        U_steadyState = u[:,-1] \n",
    "        pd.DataFrame(t).to_csv(filename + '_T.csv')\n",
    "        pd.DataFrame(U_steadyState).to_csv(filename + '_U_steadyState.csv')\n",
    "    else:\n",
    "        print(\"Completed\")\n",
    "        #filename = f'amp_{amp}' + f'alpha_{alpha}'\n",
    "        #savemat(filename + '.mat', matDict)\n",
    "    return u, t"
   ]
  },
  {
   "cell_type": "code",
   "execution_count": 83,
   "id": "17730965",
   "metadata": {},
   "outputs": [
    {
     "name": "stdout",
     "output_type": "stream",
     "text": [
      "amp_0alpha_5.169 =-=-=-=-=-= 66.78s\n",
      "Completed\n"
     ]
    }
   ],
   "source": [
    "#KFR Try-3: Like RNN+FNO, Training Data is different. For one parameter, different random points in time. \n",
    "#mapping between the (input) and (Ndt times the input)\n",
    "\n",
    "\n",
    "def DataGenerator_Alpha(Alpha, TrainingSamples, Ndt, Space = 5000, InitialSolve=350, dx=207): \n",
    "\n",
    "    X_Data = torch.zeros([TrainingSamples,dx])\n",
    "    Y_Data = torch.zeros([TrainingSamples,dx])\n",
    "    count = 0\n",
    "    U, T_array = DataGenerator(Alpha, t=InitialSolve, CSV=False)\n",
    "    #start = -Space\n",
    "    for i in range(0,TrainingSamples):\n",
    "    #print('i', i)\n",
    "        start = int(random.uniform(-Space,-(Ndt+1)))\n",
    "        X_Data[count,:] = ((torch.from_numpy(U)))[start,:].reshape(dx)\n",
    "        Y_Data[count,:] = ((torch.from_numpy(U)))[start+Ndt,:].reshape(dx)\n",
    "        start += 3\n",
    "        count += 1\n",
    "    \n",
    "    Udict = {\"input\": X_Data, \"u_results\": Y_Data, \"u_original\": U, \"time\": T_array}\n",
    "\n",
    "        \n",
    "    np.save('Data_Generator/' + f'KFR_data_{Alpha}_{InitialSolve}',Udict)\n",
    "    np.save('Data_Generator/' + f'input_{Alpha}_{InitialSolve}_{Ndt}_{TrainingSamples}_{Space}',X_Data)\n",
    "    np.save('Data_Generator/' + f'u_results_{Alpha}_{InitialSolve}_{Ndt}_{TrainingSamples}_{Space}',Y_Data)\n",
    "    np.save('Data_Generator/' + f'u_original_{Alpha}_{InitialSolve}',U)\n",
    "    np.save('Data_Generator/' + f'time_{Alpha}_{InitialSolve}',T_array)\n",
    "    \n",
    "    return Udict"
   ]
  }
 ],
 "metadata": {
  "kernelspec": {
   "display_name": "Python 3 (ipykernel)",
   "language": "python",
   "name": "python3"
  },
  "language_info": {
   "codemirror_mode": {
    "name": "ipython",
    "version": 3
   },
   "file_extension": ".py",
   "mimetype": "text/x-python",
   "name": "python",
   "nbconvert_exporter": "python",
   "pygments_lexer": "ipython3",
   "version": "3.9.7"
  }
 },
 "nbformat": 4,
 "nbformat_minor": 5
}
