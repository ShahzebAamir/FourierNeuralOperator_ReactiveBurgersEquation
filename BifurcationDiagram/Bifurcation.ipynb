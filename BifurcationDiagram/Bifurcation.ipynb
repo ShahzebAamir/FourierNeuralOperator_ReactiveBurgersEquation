{
 "cells": [
  {
   "cell_type": "markdown",
   "id": "c4adc58c",
   "metadata": {},
   "source": [
    "Generate Bifuracation Diagram"
   ]
  },
  {
   "cell_type": "code",
   "execution_count": null,
   "id": "d31c81c7",
   "metadata": {},
   "outputs": [],
   "source": [
    "import matplotlib.pyplot as plt\n",
    "import numpy as np\n",
    "from numpy import linalg as LA\n",
    "from matplotlib.pyplot import figure\n",
    "import latex\n",
    "\n",
    "from scipy import interpolate"
   ]
  },
  {
   "cell_type": "code",
   "execution_count": null,
   "id": "0dd04b92",
   "metadata": {},
   "outputs": [],
   "source": [
    "import matplotlib as mpl\n",
    "mpl.rcParams.update(mpl.rcParamsDefault)\n",
    "\n",
    "plt.rcParams['text.usetex'] = True\n",
    "plt.rcParams.update({\n",
    "     \"font.family\": \"serif\",   # specify font family here\n",
    "     \"font.serif\": [\"Nimbus Roman\"],  # specify font here\n",
    "     \"font.size\":11})"
   ]
  },
  {
   "cell_type": "code",
   "execution_count": null,
   "id": "26e96240",
   "metadata": {},
   "outputs": [],
   "source": [
    "def Bifurcation(Param):\n",
    "    %run ./Data_Generator/utils.ipynb\n",
    "    \n",
    "    Alpha = Param[\"Alpha\"]\n",
    "    InitialSolve = Param[\"InitialSolve\"]\n",
    "    Ndt = Param[\"Ndt\"]\n",
    "    \n",
    "    r=[]\n",
    "    s=[]\n",
    "    for alpha in Alpha:\n",
    "        Path_U_IS = 'Data_Generator/' + f'u_original_{alpha}_{InitialSolve}.npy'\n",
    "\n",
    "        U_initial_solve = np.load(Path_U_IS, allow_pickle=True)[::20,-1]\n",
    "\n",
    "        Path_FNO = 'Data_Generator/' + f'FNO_shockarray_{alpha}_{Ndt}.npy'\n",
    "\n",
    "        FNO = np.load(Path_FNO, allow_pickle=True)[:,-1]\n",
    "\n",
    "        FNO_unfine = np.append(U_initial_solve,FNO)\n",
    "\n",
    "        time_uni = np.linspace(0,10000,FNO_unfine.shape[-1])\n",
    "\n",
    "        time_uni_fine = np.linspace(0,10000,50*FNO_unfine.shape[-1])\n",
    "\n",
    "        tck = interpolate.splrep(time_uni, FNO_unfine, s = 0)\n",
    "\n",
    "        FNO_fine = interpolate.splev(time_uni_fine, tck, der=0)\n",
    "\n",
    "        data_FNO = np.array([time_uni_fine,FNO_fine]).T\n",
    "\n",
    "        maxima = find_maxima(storage=None, t_min=8500, t_max=10000,\n",
    "                    plot=False, ret_idx=False, main=False, tus=data_FNO)\n",
    "        \n",
    "        for i in range(maxima.shape[0]):\n",
    "            r.append(alpha)\n",
    "            s.append(maxima[i,1])\n",
    "            \n",
    "    fig = figure(figsize=(7, 7), dpi=90)\n",
    "    plt.plot(r,s,'k.')\n",
    "    plt.xlabel(r'$\\alpha$',fontsize = 18)\n",
    "    plt.ylabel(r'$u_s$',fontsize = 18)\n",
    "    plt.xticks(fontsize=15)\n",
    "    plt.yticks(fontsize=15)\n",
    "    plt.ylim([1,1.4])\n",
    "    plt.xlim([4.4,5.4])\n",
    "    plt.title('Bifurcation Diagram FNO', fontsize = 18)\n",
    "    plt.grid(True)\n",
    "    plt.savefig(\"Figures/\" + 'Bifurcation_Diagram.jpg')\n",
    "    return r, s, data_FNO"
   ]
  }
 ],
 "metadata": {
  "kernelspec": {
   "display_name": "Python 3 (ipykernel)",
   "language": "python",
   "name": "python3"
  },
  "language_info": {
   "codemirror_mode": {
    "name": "ipython",
    "version": 3
   },
   "file_extension": ".py",
   "mimetype": "text/x-python",
   "name": "python",
   "nbconvert_exporter": "python",
   "pygments_lexer": "ipython3",
   "version": "3.9.7"
  }
 },
 "nbformat": 4,
 "nbformat_minor": 5
}
