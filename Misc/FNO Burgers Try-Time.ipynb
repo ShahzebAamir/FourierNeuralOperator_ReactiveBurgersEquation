{
 "cells": [
  {
   "cell_type": "code",
   "execution_count": 1,
   "id": "bd7bc0b3",
   "metadata": {},
   "outputs": [],
   "source": [
    "\"\"\"\n",
    "@author: Zongyi Li\n",
    "This file is the Fourier Neural Operator for 1D problem such as the (time-independent) Burgers equation discussed in Section 5.1 in the [paper](https://arxiv.org/pdf/2010.08895.pdf).\n",
    "\"\"\"\n",
    "\n",
    "import numpy as np\n",
    "import torch\n",
    "import torch.nn as nn\n",
    "import torch.nn.functional as F\n",
    "from torch.nn.parameter import Parameter\n",
    "import matplotlib.pyplot as plt\n",
    "\n",
    "import operator\n",
    "from functools import reduce\n",
    "from functools import partial\n",
    "from timeit import default_timer\n",
    "from utilities3 import *\n",
    "\n",
    "from Adam import Adam"
   ]
  },
  {
   "cell_type": "code",
   "execution_count": 2,
   "id": "00eb0994",
   "metadata": {},
   "outputs": [],
   "source": [
    "torch.manual_seed(0)\n",
    "np.random.seed(0)\n",
    "\n",
    "\n",
    "################################################################\n",
    "#  1d fourier layer\n",
    "################################################################\n",
    "class SpectralConv1d(nn.Module):\n",
    "    def __init__(self, in_channels, out_channels, modes1):\n",
    "        super(SpectralConv1d, self).__init__()\n",
    "\n",
    "        \"\"\"\n",
    "        1D Fourier layer. It does FFT, linear transform, and Inverse FFT.    \n",
    "        \"\"\"\n",
    "\n",
    "        self.in_channels = in_channels\n",
    "        self.out_channels = out_channels\n",
    "        self.modes1 = modes1  #Number of Fourier modes to multiply, at most floor(N/2) + 1\n",
    "\n",
    "        self.scale = (1 / (in_channels*out_channels))\n",
    "        self.weights1 = nn.Parameter(self.scale * torch.rand(in_channels, out_channels, self.modes1, dtype=torch.cfloat))\n",
    "\n",
    "    # Complex multiplication\n",
    "    def compl_mul1d(self, input, weights):\n",
    "        # (batch, in_channel, x ), (in_channel, out_channel, x) -> (batch, out_channel, x)\n",
    "        return torch.einsum(\"bix,iox->box\", input, weights)\n",
    "\n",
    "    def forward(self, x):\n",
    "        batchsize = x.shape[0]\n",
    "        #Compute Fourier coeffcients up to factor of e^(- something constant)\n",
    "        x_ft = torch.fft.rfft(x)\n",
    "\n",
    "        # Multiply relevant Fourier modes\n",
    "        out_ft = torch.zeros(batchsize, self.out_channels, x.size(-1)//2 + 1,  device=x.device, dtype=torch.cfloat)\n",
    "        out_ft[:, :, :self.modes1] = self.compl_mul1d(x_ft[:, :, :self.modes1], self.weights1)\n",
    "\n",
    "        #Return to physical space\n",
    "        x = torch.fft.irfft(out_ft, n=x.size(-1))\n",
    "        return x\n",
    "\n",
    "class FNO1d(nn.Module):\n",
    "    def __init__(self, modes, width):\n",
    "        super(FNO1d, self).__init__()\n",
    "\n",
    "        \"\"\"\n",
    "        The overall network. It contains 4 layers of the Fourier layer.\n",
    "        1. Lift the input to the desire channel dimension by self.fc0 .\n",
    "        2. 4 layers of the integral operators u' = (W + K)(u).\n",
    "            W defined by self.w; K defined by self.conv .\n",
    "        3. Project from the channel space to the output space by self.fc1 and self.fc2 .\n",
    "        \n",
    "        input: the solution of the initial condition and location (a(x), x)\n",
    "        input shape: (batchsize, x=s, c=2)\n",
    "        output: the solution of a later timestep\n",
    "        output shape: (batchsize, x=s, c=1)\n",
    "        \"\"\"\n",
    "\n",
    "        self.modes1 = modes\n",
    "        self.width = width\n",
    "        self.padding = 2 # pad the domain if input is non-periodic\n",
    "        self.fc0 = nn.Linear(11, self.width) # input channel is 2: (a(x), x)\n",
    "\n",
    "        self.conv0 = SpectralConv1d(self.width, self.width, self.modes1)\n",
    "        self.conv1 = SpectralConv1d(self.width, self.width, self.modes1)\n",
    "        self.conv2 = SpectralConv1d(self.width, self.width, self.modes1)\n",
    "        self.conv3 = SpectralConv1d(self.width, self.width, self.modes1)\n",
    "        self.w0 = nn.Conv1d(self.width, self.width, 1)\n",
    "        self.w1 = nn.Conv1d(self.width, self.width, 1)\n",
    "        self.w2 = nn.Conv1d(self.width, self.width, 1)\n",
    "        self.w3 = nn.Conv1d(self.width, self.width, 1)\n",
    "\n",
    "        self.fc1 = nn.Linear(self.width, 128)\n",
    "        self.fc2 = nn.Linear(128, 1)\n",
    "\n",
    "    def forward(self, x):\n",
    "        grid = self.get_grid(x.shape, x.device)\n",
    "        x = torch.cat((x, grid), dim=-1)\n",
    "        x = self.fc0(x)\n",
    "        x = x.permute(0, 2, 1)\n",
    "        #x = F.pad(x, [0,self.padding]) # pad the domain if input is non-periodic\n",
    "\n",
    "        x1 = self.conv0(x)\n",
    "        x2 = self.w0(x)\n",
    "        x = x1 + x2\n",
    "        x = F.gelu(x)\n",
    "\n",
    "        x1 = self.conv1(x)\n",
    "        x2 = self.w1(x)\n",
    "        x = x1 + x2\n",
    "        x = F.gelu(x)\n",
    "\n",
    "        x1 = self.conv2(x)\n",
    "        x2 = self.w2(x)\n",
    "        x = x1 + x2\n",
    "        x = F.gelu(x)\n",
    "\n",
    "        x1 = self.conv3(x)\n",
    "        x2 = self.w3(x)\n",
    "        x = x1 + x2\n",
    "\n",
    "        #x = x[..., :-self.padding] # pad the domain if input is non-periodic\n",
    "        x = x.permute(0, 2, 1)\n",
    "        x = self.fc1(x)\n",
    "        x = F.gelu(x)\n",
    "        x = self.fc2(x)\n",
    "        return x\n",
    "\n",
    "    def get_grid(self, shape, device):\n",
    "        batchsize, size_x = shape[0], shape[1]\n",
    "        gridx = torch.tensor(np.linspace(0, 1, size_x), dtype=torch.float)\n",
    "        gridx = gridx.reshape(1, size_x, 1).repeat([batchsize, 1, 1])\n",
    "        return gridx.to(device)"
   ]
  },
  {
   "cell_type": "code",
   "execution_count": 26,
   "id": "b44769d4",
   "metadata": {},
   "outputs": [],
   "source": [
    "################################################################\n",
    "#  configurations\n",
    "################################################################\n",
    "ntrain = 1200\n",
    "ntest = 100\n",
    "\n",
    "sub = 2**3 #subsampling rate\n",
    "h = 2**13 // sub #total grid size divided by the subsampling rate\n",
    "s = h\n",
    "\n",
    "batch_size = 20\n",
    "learning_rate = 0.001\n",
    "\n",
    "epochs = 500\n",
    "step_size = 50\n",
    "gamma = 0.5\n",
    "\n",
    "modes = 128\n",
    "width = 64"
   ]
  },
  {
   "cell_type": "code",
   "execution_count": null,
   "id": "a942f659",
   "metadata": {},
   "outputs": [],
   "source": [
    "################################################################\n",
    "# read data\n",
    "################################################################\n",
    "\n",
    "# Data is of the shape (number of samples, grid size)  [2048,8192]  -->  [first 1000, :] train + [last 100, :] test\n",
    "dataloader = MatReader('data/burgers_data_R10.mat')\n",
    "x_data = dataloader.read_field('a')[:,::sub] #Training at a resolution lower than 2**3=8192\n",
    "y_data = dataloader.read_field('u')[:,::sub]\n",
    "\n",
    "x_train = x_data[:ntrain,:]\n",
    "y_train = y_data[:ntrain,:]\n",
    "x_test = x_data[-ntest:,:]\n",
    "y_test = y_data[-ntest:,:]\n",
    "\n",
    "x_train = x_train.reshape(ntrain,s,1)\n",
    "x_test = x_test.reshape(ntest,s,1)\n",
    "\n",
    "train_loader = torch.utils.data.DataLoader(torch.utils.data.TensorDataset(x_train, y_train), batch_size=batch_size, shuffle=True)\n",
    "test_loader = torch.utils.data.DataLoader(torch.utils.data.TensorDataset(x_test, y_test), batch_size=batch_size, shuffle=False)\n",
    "\n",
    "# model\n",
    "model = FNO1d(modes, width).cuda()\n",
    "print(count_params(model))"
   ]
  },
  {
   "cell_type": "code",
   "execution_count": 27,
   "id": "6db8d98b",
   "metadata": {},
   "outputs": [],
   "source": [
    "Tin=10\n",
    "T=10\n",
    "step = 1\n",
    "\n",
    "dataloader = MatReader('data/burgers_self_time.mat')\n",
    "IC = (dataloader.read_field('input')).reshape(-1,1,1024)\n",
    "x_data = dataloader.read_field('result')[:,1:Tin,:]\n",
    "y_data = dataloader.read_field('result')[:,Tin:,:]\n",
    "\n",
    "x_train = x_data[:ntrain,:,:]\n",
    "x_train = torch.cat((IC[:ntrain,:,:],x_train),dim=1)\n",
    "y_train = y_data[:ntrain,:,:]\n",
    "x_test = x_data[-ntest:,:,:]\n",
    "x_test = torch.cat((IC[-ntest:,:,:],x_test),dim=1)\n",
    "y_test = y_data[-ntest:,:,:]"
   ]
  },
  {
   "cell_type": "code",
   "execution_count": 24,
   "id": "e41dc899",
   "metadata": {},
   "outputs": [
    {
     "data": {
      "text/plain": [
       "<function matplotlib.pyplot.show(close=None, block=None)>"
      ]
     },
     "execution_count": 24,
     "metadata": {},
     "output_type": "execute_result"
    },
    {
     "data": {
      "image/png": "[encoded data removed]",
      "text/plain": [
       "<Figure size 432x288 with 1 Axes>"
      ]
     },
     "metadata": {
      "needs_background": "light"
     },
     "output_type": "display_data"
    }
   ],
   "source": [
    "plt.plot(x_train[-5,:,9].cpu().numpy(),'k')\n",
    "\n",
    "plt.plot(y_train[-5,:,9].cpu().numpy())\n",
    "\n",
    "plt.show"
   ]
  },
  {
   "cell_type": "code",
   "execution_count": 28,
   "id": "9d116117",
   "metadata": {},
   "outputs": [],
   "source": [
    "y_train = y_train.permute(0,2,1)\n",
    "y_test = y_test.permute(0,2,1)\n",
    "\n",
    "x_train = x_train.permute(0,2,1)\n",
    "x_test = x_test.permute(0,2,1)"
   ]
  },
  {
   "cell_type": "code",
   "execution_count": 29,
   "id": "2ba14023",
   "metadata": {},
   "outputs": [
    {
     "data": {
      "text/plain": [
       "torch.Size([1200, 1024, 10])"
      ]
     },
     "execution_count": 29,
     "metadata": {},
     "output_type": "execute_result"
    }
   ],
   "source": [
    "y_train.shape"
   ]
  },
  {
   "cell_type": "code",
   "execution_count": 30,
   "id": "fb9a5a8a",
   "metadata": {},
   "outputs": [
    {
     "name": "stdout",
     "output_type": "stream",
     "text": [
      "4220161\n"
     ]
    }
   ],
   "source": [
    "#x_train = x_train.reshape(ntrain,s,Tin)\n",
    "#x_test = x_test.reshape(ntest,s,Tin)\n",
    "\n",
    "train_loader = torch.utils.data.DataLoader(torch.utils.data.TensorDataset(x_train, y_train), batch_size=batch_size, shuffle=True)\n",
    "test_loader = torch.utils.data.DataLoader(torch.utils.data.TensorDataset(x_test, y_test), batch_size=batch_size, shuffle=False)\n",
    "\n",
    "# model\n",
    "model = FNO1d(modes, width).cuda()\n",
    "print(count_params(model))"
   ]
  },
  {
   "cell_type": "code",
   "execution_count": null,
   "id": "1b73691d",
   "metadata": {},
   "outputs": [],
   "source": [
    "y.reshape(batch_size, -1).shape"
   ]
  },
  {
   "cell_type": "code",
   "execution_count": null,
   "id": "c3077dd2",
   "metadata": {},
   "outputs": [],
   "source": [
    "yy[..., t:t+step].shape"
   ]
  },
  {
   "cell_type": "code",
   "execution_count": null,
   "id": "9dc34ba8",
   "metadata": {},
   "outputs": [],
   "source": [
    "out.shape"
   ]
  },
  {
   "cell_type": "code",
   "execution_count": null,
   "id": "18c71358",
   "metadata": {},
   "outputs": [],
   "source": [
    "xx.shape\n",
    "#out.shape\n",
    "\n",
    "torch.cat((xx[..., 1:],out),dim=-1).shape"
   ]
  },
  {
   "cell_type": "code",
   "execution_count": 31,
   "id": "0592d672",
   "metadata": {},
   "outputs": [
    {
     "name": "stdout",
     "output_type": "stream",
     "text": [
      "0 7.943599023856223 305.1885697245598 4.460280060768127\n",
      "1 8.05219459021464 63.23905697464943 3.9741745591163635\n",
      "2 7.769487667828798 39.589589431881905 1.3783239871263504\n",
      "3 7.578238148242235 30.45885941386223 2.4842540621757507\n",
      "4 7.555832447018474 35.12895378470421 1.9769995510578156\n",
      "5 7.555584444198757 26.536867275834084 2.1732627153396606\n",
      "6 7.55424875812605 26.936987683176994 1.5938917696475983\n",
      "7 7.556251355912536 26.845876798033714 2.6051456928253174\n",
      "8 7.555611957795918 26.753359645605087 2.4788533449172974\n",
      "9 7.551443501841277 25.27548386156559 2.8957969546318054\n",
      "10 7.5531847900711 23.440879300236702 2.4321474730968475\n",
      "11 7.556020135991275 25.07617437839508 2.679676651954651\n",
      "12 7.557148524560034 22.795184306800365 1.7840751111507416\n",
      "13 7.590549661777914 21.23285685479641 1.5748647153377533\n",
      "14 7.702409354969859 28.530423678457737 2.5770875811576843\n",
      "15 7.799080195836723 21.091275572776794 1.985486090183258\n",
      "16 7.754247664939612 21.623502552509308 2.38387393951416\n",
      "17 7.7725607408210635 22.30029883980751 0.6858242601156235\n",
      "18 7.904755778145045 16.365069285035133 1.8839114606380463\n",
      "19 7.842104498296976 23.70279484987259 1.0355720669031143\n",
      "20 7.780678354203701 26.325826101005077 0.931917205452919\n",
      "21 7.774829322006553 11.253120422363281 0.5976902768015862\n",
      "22 7.824093844741583 15.809980504214764 1.5723827183246613\n",
      "23 7.939395253080875 19.44860327243805 1.172515869140625\n",
      "24 7.931017676834017 17.155364967882633 1.0503915846347809\n",
      "25 7.989457448013127 17.38171772658825 1.8183670043945312\n",
      "26 7.8945700651966035 18.640099301934242 1.2410624623298645\n",
      "27 7.890949205961078 21.71309508383274 2.134246826171875\n",
      "28 7.894063484854996 17.747534595429897 2.1023217737674713\n",
      "29 7.91988909477368 13.12999738752842 1.2770268470048904\n",
      "30 7.895398103166372 13.440302670001984 1.938059687614441\n",
      "31 7.901204586960375 16.70661949366331 1.6106520593166351\n",
      "32 7.8900497811846435 17.7546246945858 1.560198575258255\n",
      "33 7.913260516710579 17.205038771033287 1.555010050535202\n",
      "34 8.019360906910151 16.15221245586872 1.5153223872184753\n",
      "35 7.975349836051464 16.63916464149952 1.1137440651655197\n",
      "36 7.973620421253145 16.399568885564804 1.551504522562027\n",
      "37 7.900779384654015 16.354737401008606 1.1591785252094269\n",
      "38 7.903618982061744 13.321644619107246 1.1990563571453094\n",
      "39 8.083235706202686 15.651484906673431 1.0931169092655182\n",
      "40 8.216298494953662 15.898898981511593 0.9925046563148499\n",
      "41 8.035110045224428 15.887766972184181 1.2138091921806335\n",
      "42 7.977231454104185 15.812527626752853 1.9206948578357697\n",
      "43 7.9268119861371815 14.890470311045647 1.0127363801002502\n",
      "44 7.924918569158763 15.40058159828186 1.1836013495922089\n",
      "45 7.934061586391181 14.79823674634099 0.49111487716436386\n",
      "46 7.923977573867887 13.654256835579872 0.8332850337028503\n",
      "47 7.924324913881719 13.56977903842926 1.1970891654491425\n",
      "48 8.009134096093476 12.197175979614258 1.0759378224611282\n",
      "49 8.143446065951139 15.387380093336105 1.2787894010543823\n",
      "50 7.987945802044123 7.8223986104130745 0.4831780716776848\n",
      "51 7.958338698372245 7.302000254392624 0.7875097543001175\n",
      "52 7.963314383756369 7.723006375133991 0.5583553612232208\n",
      "53 7.960331828333437 7.556250993162394 0.5075474828481674\n",
      "54 7.961322269868106 6.806381061673164 0.3480549231171608\n",
      "55 7.9654473080299795 7.266658749431372 0.7159897089004517\n",
      "56 7.962959031108767 7.278260927647352 0.3591054528951645\n",
      "57 7.958689138293266 7.835264701396227 0.6581410467624664\n",
      "58 7.9589081183075905 7.716416388750076 0.6332032978534698\n",
      "59 7.966297363862395 7.737119629979134 0.6334091648459435\n",
      "60 7.96356565086171 7.749383419752121 0.7811135798692703\n",
      "61 7.963681074790657 6.872102569788694 0.7325398027896881\n",
      "62 7.964251501020044 7.876172870397568 0.6193105131387711\n",
      "63 7.962367652915418 7.390955854207277 0.4291798919439316\n",
      "64 8.013796941842884 7.837998412549496 0.6936600804328918\n",
      "65 7.961840302217752 8.276756279170513 0.8427696079015732\n",
      "66 7.961812049616128 7.531509570777416 0.5289267599582672\n",
      "67 8.012055043131113 7.774833992123604 0.7434109896421432\n",
      "68 7.9619811568409204 7.583359494805336 0.45276762545108795\n",
      "69 7.96528028184548 7.472769595682621 0.5035744532942772\n",
      "70 7.963024800643325 6.677193723618984 0.405961811542511\n",
      "71 7.95915655978024 6.851071164011955 0.63179861754179\n",
      "72 7.964988628868014 7.493453878909349 0.3763802647590637\n",
      "73 7.960754150059074 4.004562184214592 1.0728426575660706\n",
      "74 7.965954702813178 7.997193895280361 0.3862345442175865\n",
      "75 7.967762666288763 6.651568192988634 0.5912717133760452\n",
      "76 7.961948890704662 7.905364193022251 0.5914110541343689\n",
      "77 7.961269066669047 7.538255468010902 0.28250089287757874\n",
      "78 8.236233505886048 5.250720299780369 0.232200276106596\n",
      "79 8.035588989034295 6.314034845679998 0.5324355140328407\n",
      "80 7.888130666222423 7.250043507665396 0.6761883050203323\n",
      "81 7.884716154076159 7.615287937223911 0.5661952421069145\n",
      "82 7.886978320777416 6.2650339268147945 0.4453882724046707\n",
      "83 7.8878813702613115 6.222700532525778 0.3641350790858269\n",
      "84 7.886546861380339 7.820299860090017 0.8911632150411606\n",
      "85 7.895569933112711 7.84705064445734 0.6019292250275612\n",
      "86 7.887861567083746 7.475061360746622 0.5434994548559189\n",
      "87 7.889157112222165 7.971080727875233 0.8286201655864716\n",
      "88 7.888338410761207 7.182066109031439 0.5569421425461769\n",
      "89 7.887360016815364 5.9705911092460155 1.029265135526657\n",
      "90 7.887449790257961 8.359680596739054 0.5631203800439835\n",
      "91 7.889039763715118 6.286948729306459 0.4035678282380104\n",
      "92 7.888012139126658 7.244351748377085 0.4466753974556923\n",
      "93 7.891615298110992 7.755108684301376 0.8367947638034821\n",
      "94 7.9035270949825644 7.124724946916103 0.6452904865145683\n",
      "95 7.890740328002721 7.772988468408585 0.5229348838329315\n",
      "96 7.891586774028838 7.829441525042057 0.4593585431575775\n",
      "97 7.883984710089862 7.720478564500809 0.5799578875303268\n",
      "98 7.886926123406738 7.273187279701233 0.3110777884721756\n",
      "99 7.895380595698953 6.639397032558918 0.5325792878866196\n",
      "100 7.893836391624063 4.114573270082474 0.21527738496661186\n",
      "101 7.889469873160124 3.8708387725055218 0.2878478020429611\n",
      "102 7.884974878747016 3.5937245991081 0.18881473317742348\n",
      "103 7.891575835645199 3.7610231786966324 0.22797119989991188\n",
      "104 7.8865780383348465 3.526219232007861 0.2379807084798813\n",
      "105 7.916801193729043 3.894141722470522 0.23195107653737068\n",
      "106 7.88799284119159 3.5405503939837217 0.24829478189349174\n",
      "107 7.885379192885011 3.7968223690986633 0.3517589718103409\n",
      "108 7.897950281854719 3.949224103242159 0.1820172257721424\n",
      "109 7.892234508879483 3.266298569738865 0.1336664166301489\n",
      "110 7.882494388148189 2.902927191928029 0.1692529171705246\n",
      "111 7.878965910989791 2.9617995228618383 0.2240947261452675\n",
      "112 7.874881209805608 3.931813418865204 0.3007146567106247\n",
      "113 7.881196531932801 3.967085089534521 0.3429747149348259\n",
      "114 7.882553822826594 3.894515546038747 0.36117223650217056\n",
      "115 7.920658702030778 2.7421881780028343 0.3249942511320114\n",
      "116 7.937490981072187 3.922347493469715 0.2545905150473118\n",
      "117 7.932299621868879 3.7557569332420826 0.4840550944209099\n",
      "118 7.933770183008164 2.822966093197465 0.1258571781218052\n",
      "119 7.934542331844568 3.6220783181488514 0.5631546005606651\n",
      "120 7.93280322290957 3.298393378034234 0.21835172921419144\n",
      "121 7.933796331752092 3.7362633924931288 0.16980642452836037\n",
      "122 7.93918990297243 3.829825781285763 0.2060520499944687\n",
      "123 7.935026763007045 3.2305588833987713 0.13338090479373932\n",
      "124 7.902863025665283 2.934894148260355 0.34913794696331024\n",
      "125 7.8405409548431635 3.8631926216185093 0.5163646563887596\n",
      "126 7.830490229185671 3.8504837788641453 0.4000404626131058\n",
      "127 8.004609434865415 3.8562448751181364 0.2878943048417568\n",
      "128 8.007186718285084 3.9726437367498875 0.2520841620862484\n",
      "129 7.87461423734203 4.132070664316416 0.4620250016450882\n",
      "130 7.8744904128834605 3.087333744391799 0.3027672581374645\n",
      "131 7.879704585764557 3.9167717806994915 0.47550108283758163\n",
      "132 7.877312509808689 3.5443715192377567 0.16265641525387764\n",
      "133 7.87436613207683 3.4001808036118746 0.38312308490276337\n",
      "134 7.873666705098003 3.6140528954565525 0.24832260236144066\n",
      "135 7.873424643650651 3.797882730141282 0.23815007135272026\n",
      "136 8.067407431080937 3.0990268774330616 0.3924930542707443\n",
      "137 8.020782016217709 3.9177165031433105 0.1978001669049263\n",
      "138 7.922397191636264 3.8348553851246834 0.37224527448415756\n",
      "139 7.935120321344584 3.949393931776285 0.4005677327513695\n"
     ]
    },
    {
     "name": "stdout",
     "output_type": "stream",
     "text": [
      "140 7.937456248793751 3.82483933493495 0.3880099281668663\n",
      "141 7.9203849751502275 4.1997387036681175 0.42735785245895386\n",
      "142 7.925123258959502 3.8637874983251095 0.39748483896255493\n",
      "143 7.919432266615331 3.715961132198572 0.391934871673584\n",
      "144 7.919367189053446 4.302687913179398 0.3314276561141014\n",
      "145 7.919881454668939 3.453159859403968 0.47365761548280716\n",
      "146 7.924295995384455 3.8545832745730877 0.2842521108686924\n",
      "147 7.922633870039135 3.377110818400979 0.27365510910749435\n",
      "148 7.919647401198745 2.632588230073452 0.18439897522330284\n",
      "149 7.922748733777553 3.50181289575994 0.2080022357404232\n",
      "150 7.924800592940301 1.3350437013432384 0.11813234351575375\n",
      "151 7.92232962930575 1.5015428764745593 0.14648267813026905\n",
      "152 7.881561274174601 1.9488886389881372 0.17991435155272484\n",
      "153 7.828865610994399 1.9277829863131046 0.20434438809752464\n",
      "154 7.86939945910126 1.9654758293181658 0.06898556090891361\n",
      "155 8.069922989234328 1.610322393476963 0.13594085536897182\n",
      "156 8.013732067774981 1.581844831816852 0.15556370839476585\n",
      "157 7.893639575690031 1.9486279748380184 0.14201998710632324\n",
      "158 7.8948207013309 1.9023426212370396 0.21662184968590736\n",
      "159 7.897052647080272 1.611252230592072 0.2577035538852215\n",
      "160 7.895840636920184 1.9663414051756263 0.14025346376001835\n",
      "161 7.89321699924767 1.4986420338973403 0.08568415977060795\n",
      "162 7.897149949800223 1.9110919767990708 0.17091719433665276\n",
      "163 7.895948758348823 1.648896866478026 0.1736280582845211\n",
      "164 7.894628023728728 1.981691563501954 0.08605341240763664\n",
      "165 7.899148637894541 1.9355034623295069 0.17996833100914955\n",
      "166 7.8976976769044995 1.9740997925400734 0.1405336894094944\n",
      "167 7.900778118986636 1.966363207437098 0.16492190770804882\n",
      "168 7.896643717773259 1.9852475430816412 0.24833831191062927\n",
      "169 7.900087256915867 1.8026686059311032 0.12945408932864666\n",
      "170 7.919804978650063 1.9577500354498625 0.17822198197245598\n",
      "171 7.897448498755693 1.9476364515721798 0.158724557608366\n",
      "172 7.8963708048686385 1.6558376047760248 0.23510123789310455\n",
      "173 7.902018391061574 2.034621438011527 0.087721336632967\n",
      "174 7.896004732698202 1.9231436122208834 0.13103825226426125\n",
      "175 7.9040611777454615 1.9437405578792095 0.17684099823236465\n",
      "176 7.902407980989665 1.8112532831728458 0.10721386782824993\n",
      "177 7.8937133410945535 1.2379164844751358 0.08653271943330765\n",
      "178 7.901845948304981 1.9069444620981812 0.12743931636214256\n",
      "179 7.896367397159338 1.6546865105628967 0.10596145503222942\n",
      "180 7.892939859069884 1.4487337581813335 0.17459843307733536\n",
      "181 7.903325704857707 1.6725887022912502 0.09656187333166599\n",
      "182 7.898227745201439 1.6968739526346326 0.13189121522009373\n",
      "183 7.895739403087646 1.981322044506669 0.16570060700178146\n",
      "184 7.8986489358358085 1.8855411782860756 0.09078075550496578\n",
      "185 7.9161581438966095 2.002910368144512 0.14096754044294357\n",
      "186 7.895000782329589 1.9631385505199432 0.15928117372095585\n",
      "187 7.893127019051462 1.975263586267829 0.11167829483747482\n",
      "188 7.89480547606945 1.9790379721671343 0.165499122813344\n",
      "189 7.896155443042517 1.8065238231793046 0.15393584594130516\n",
      "190 7.892813880927861 1.6472458876669407 0.08748895302414894\n",
      "191 7.897298064548522 1.5091842580586672 0.07122604548931122\n",
      "192 7.905327667016536 1.6317269187420607 0.07633881829679012\n",
      "193 7.899425980169326 1.5818854225799441 0.1372904870659113\n",
      "194 7.895501988008618 1.9960877131670713 0.1859157495200634\n",
      "195 7.896521918941289 2.7214682400226593 0.1359394434839487\n",
      "196 7.900717914104462 1.442168440669775 0.09380546770989895\n",
      "197 7.897015518974513 1.104861537925899 0.11419017426669598\n",
      "198 7.899284039158374 1.629387203603983 0.0908544659614563\n",
      "199 7.903933751862496 1.2224166626110673 0.06897686701267958\n",
      "200 7.911488548386842 0.9196580527350307 0.08189591020345688\n",
      "201 7.905437199398875 0.9968004124239087 0.0871807262301445\n",
      "202 7.906651723198593 0.7575554503127933 0.044677102006971836\n",
      "203 7.896048120688647 0.7984745963476598 0.09762605838477612\n",
      "204 7.896044921129942 0.818828584626317 0.044397005811333656\n",
      "205 7.902725601568818 0.9026956674642861 0.09282560646533966\n",
      "206 7.897606824990362 1.0182001320645213 0.09927012957632542\n",
      "207 7.8991379383951426 0.9794889120385051 0.0990157201886177\n",
      "208 7.899315796326846 0.7695704223588109 0.05298046674579382\n",
      "209 7.898440173827112 0.8720640917308629 0.06886522471904755\n",
      "210 7.9043315621092916 0.872244801837951 0.10354472324252129\n",
      "211 7.899289472028613 1.0522587718442082 0.08062979020178318\n",
      "212 7.898460388183594 0.9548024386167526 0.06569954007863998\n",
      "213 7.890988536179066 0.7980219894088805 0.1178369652479887\n",
      "214 7.901113163679838 1.005137573927641 0.07121523097157478\n",
      "215 7.908134032040834 0.7655636286363006 0.04030351433902979\n",
      "216 7.907655966002494 0.643528588116169 0.061545864678919315\n",
      "217 7.897371102124453 0.9968768740072846 0.08215033635497093\n",
      "218 7.893983943853527 1.0387134328484535 0.101547347381711\n",
      "219 7.895397537853569 1.0220771837048233 0.09852632321417332\n",
      "220 7.8990285797044635 0.9750406946986914 0.11370049603283405\n",
      "221 7.898888363037258 0.9050958217121661 0.10085497424006462\n",
      "222 7.9001898262649775 1.0097855380736291 0.08639973774552345\n",
      "223 7.895210570190102 1.0251862443983555 0.07331385929137468\n",
      "224 7.893688829150051 0.7138224267400801 0.045080034993588924\n",
      "225 7.89680266706273 0.6470841974951327 0.0975145623087883\n",
      "226 7.900381396058947 1.0258223386481404 0.06900844164192677\n",
      "227 7.900960059836507 1.0113346576690674 0.12495112419128418\n",
      "228 7.90194568503648 1.0251535456627607 0.09625661745667458\n",
      "229 7.8952404679730535 1.0105366678908467 0.06841333210468292\n",
      "230 7.906625252682716 0.8494457476772368 0.08199522458016872\n",
      "231 7.907212730962783 0.9109208211302757 0.06427642609924078\n",
      "232 7.902695910073817 1.0128671703860164 0.10969026945531368\n",
      "233 7.89644024707377 1.0209097499027848 0.08528019115328789\n",
      "234 7.896429480984807 0.8550609853118658 0.13029230944812298\n",
      "235 7.900133304763585 0.9996152971871197 0.08810251764953136\n",
      "236 7.90520534478128 0.8942520329728723 0.04085438698530197\n",
      "237 7.901584669947624 0.5882025267928839 0.09336734376847744\n",
      "238 7.899576604831964 0.7903625061735511 0.055548728443682194\n",
      "239 7.900631412863731 0.693377984687686 0.032757450360804796\n",
      "240 7.903528986033052 0.5322794248349965 0.04175255447626114\n",
      "241 7.898114223964512 0.8747183266095817 0.05529121123254299\n",
      "242 7.902843318879604 0.8746084519661963 0.10091926343739033\n",
      "243 7.899168766103685 0.9526023287326097 0.11546850763261318\n",
      "244 7.89672957919538 1.023450018838048 0.09029172174632549\n",
      "245 7.902221042197198 1.0449404614046216 0.08124138042330742\n",
      "246 7.915534928906709 1.050144273787737 0.08982191979885101\n",
      "247 7.897388168144971 1.055174544453621 0.06388822849839926\n",
      "248 7.892878049984574 1.0272989878430963 0.07786811143159866\n",
      "249 7.894552459940314 1.0380550539121032 0.08827481232583523\n",
      "250 7.896444356068969 0.4336468167603016 0.03303807647898793\n",
      "251 7.896422784309834 0.4177208445034921 0.0391622306779027\n",
      "252 7.903678917326033 0.5141555797308683 0.03705181460827589\n",
      "253 7.894323199056089 0.5115747163072228 0.04123175609856844\n",
      "254 7.901071881875396 0.44434340624138713 0.03735436964780092\n",
      "255 7.89832454174757 0.35034456150606275 0.04126314725726843\n",
      "256 7.9021208067424595 0.35753929149359465 0.032031232956796885\n",
      "257 7.902059860061854 0.34910554625093937 0.028225161135196686\n",
      "258 7.893821880221367 0.5295419562608004 0.04047994175925851\n",
      "259 7.897728601004928 0.5498462761752307 0.0508626913651824\n",
      "260 7.897641743998975 0.5644297893159091 0.03483426012098789\n",
      "261 7.920443962793797 0.5442650658078492 0.06314703449606895\n",
      "262 7.905105135869235 0.5371595360338688 0.040283290669322014\n",
      "263 7.898597120307386 0.4404649082571268 0.03338642371818423\n",
      "264 7.8961886200122535 0.4315635715611279 0.026874744798988104\n",
      "265 7.898266177624464 0.35737234354019165 0.07358125224709511\n",
      "266 7.893447045236826 0.5190655626356602 0.030006624292582273\n",
      "267 7.900370725430548 0.4366097515448928 0.031258909963071346\n",
      "268 7.897890447173268 0.4432139629498124 0.04444251116365194\n",
      "269 7.9044707310386 0.5700957751832902 0.036775761283934116\n",
      "270 7.898590662982315 0.3511585318483412 0.029143323190510273\n",
      "271 7.903851070906967 0.3636081563308835 0.024898947216570377\n",
      "272 7.896456676069647 0.35833393409848213 0.0326484190300107\n",
      "273 7.903099405113608 0.4567847093567252 0.05900248605757952\n",
      "274 7.898812719155103 0.5855293772183359 0.03896056115627289\n"
     ]
    },
    {
     "name": "stdout",
     "output_type": "stream",
     "text": [
      "275 7.900016705039889 0.4371536932885647 0.028660006821155548\n",
      "276 7.909215515013784 0.35298880166374147 0.03034431580454111\n",
      "277 7.9002058557234704 0.43651154125109315 0.06843522749841213\n",
      "278 7.896987863816321 0.4889892227947712 0.04604812990874052\n",
      "279 7.897974515799433 0.4036952252499759 0.030405890196561813\n",
      "280 7.902652474120259 0.4241567621938884 0.029679778032004833\n",
      "281 7.898289113305509 0.5252048838883638 0.029869289603084326\n",
      "282 7.892080116085708 0.4178993203677237 0.0488602165132761\n",
      "283 7.901293880771846 0.5404344405978918 0.02568572713062167\n",
      "284 7.901301728095859 0.359588211402297 0.04361855238676071\n",
      "285 7.903434276115149 0.3887469321489334 0.03780388506129384\n",
      "286 7.894718608818948 0.38939807610586286 0.03497809590771794\n",
      "287 7.900467220693827 0.5999619187787175 0.05584836099296808\n",
      "288 7.900978342164308 0.48429616540670395 0.051200409419834614\n",
      "289 7.899269428104162 0.5868387497030199 0.04531134385615587\n",
      "290 7.901739701163024 0.592293550260365 0.040300955064594746\n",
      "291 7.904871996026486 0.41933577647432685 0.04019835963845253\n",
      "292 7.901557650882751 0.3990470445714891 0.025971826165914536\n",
      "293 7.894148352090269 0.375033781863749 0.030881874728947878\n",
      "294 7.897841872181743 0.5822144877165556 0.06140577048063278\n",
      "295 7.89747329801321 0.5187981990166008 0.061216944828629494\n",
      "296 7.896464287769049 0.5941271330229938 0.061629751697182655\n",
      "297 7.900804572738707 0.4253004682250321 0.033286727499216795\n",
      "298 7.904142705723643 0.5342311062850058 0.04672255273908377\n",
      "299 7.89804766420275 0.4352666614577174 0.030398439150303602\n",
      "300 7.901164178736508 0.2723833015188575 0.02262101974338293\n",
      "301 7.8972374382428825 0.25401479634456336 0.022004163824021816\n",
      "302 7.895012644119561 0.28642387269064784 0.026969969738274813\n",
      "303 7.89525691466406 0.26210763258859515 0.025540318805724382\n",
      "304 7.898928181733936 0.2686835224740207 0.024653124623000622\n",
      "305 7.895130146294832 0.26554882479831576 0.028024920728057623\n",
      "306 7.901698288973421 0.2546512018889189 0.02176989708095789\n",
      "307 7.90706679224968 0.2552766988519579 0.022198718041181564\n",
      "308 7.904294774867594 0.2464515275787562 0.02275222260504961\n",
      "309 7.896533996798098 0.2734068427234888 0.029783262871205807\n",
      "310 7.899221437051892 0.27398178074508905 0.03274002578109503\n",
      "311 7.898789435159415 0.28832183056510985 0.028031406458467245\n",
      "312 7.898498285096139 0.25636135949753225 0.022142158122733235\n",
      "313 7.901011920999736 0.2571388727519661 0.02161079249344766\n",
      "314 7.8960921498946846 0.2548604200128466 0.021907111397013068\n",
      "315 7.898380573838949 0.3061021969188005 0.032535722479224205\n",
      "316 7.901831000111997 0.3825304345227778 0.03813725430518389\n",
      "317 7.898420849815011 0.3513513286598027 0.022027859929949045\n",
      "318 7.899701261892915 0.25968283764086664 0.020717900013551116\n",
      "319 7.902207407169044 0.2483867951668799 0.034861122258007526\n",
      "320 7.898304613307118 0.27440158231183887 0.02444679057225585\n",
      "321 7.898351998068392 0.26102452469058335 0.02288948162458837\n",
      "322 7.935749941971153 0.29583208938129246 0.03999549802392721\n",
      "323 8.20469169691205 0.3822656450793147 0.034897514153271914\n",
      "324 7.9845616817474365 0.2971148332580924 0.022219662787392735\n",
      "325 7.874500503297895 0.265432023210451 0.032000381499528885\n",
      "326 7.879966947250068 0.27560953702777624 0.031074443366378546\n",
      "327 7.875880424398929 0.3564235109370202 0.021328662056475878\n",
      "328 7.876805843785405 0.2623027719091624 0.021947545930743217\n",
      "329 8.19240979384631 0.3542640993837267 0.027160691563040018\n",
      "330 7.947699208278209 0.25264571234583855 0.025389291811734438\n",
      "331 7.945735589135438 0.29281654045917094 0.026253603864461184\n",
      "332 7.934976063203067 0.26960292365401983 0.022372810868546367\n",
      "333 7.840822784230113 0.26966714835725725 0.02679254999384284\n",
      "334 7.842798777390271 0.27752132480964065 0.024849015288054943\n",
      "335 7.961402440909296 0.28347087441943586 0.026935236528515816\n",
      "336 8.115102787036449 0.3682420873083174 0.03229188406839967\n",
      "337 7.9465327761135995 0.32764936168678105 0.025869568344205618\n",
      "338 7.929447768256068 0.2503021692391485 0.024014898110181093\n",
      "339 7.933059555012733 0.25655277422629297 0.02503461018204689\n",
      "340 7.933856318704784 0.26064701844006777 0.022127340314909816\n",
      "341 7.929266736377031 0.2534058087039739 0.021574513521045446\n",
      "342 7.930197942070663 0.28259042953141034 0.02353069558739662\n",
      "343 7.93211010703817 0.30588435707613826 0.025629866402596235\n",
      "344 7.92924394691363 0.3444304121658206 0.020995663944631815\n",
      "345 7.929179802071303 0.2750394679605961 0.0271922224201262\n",
      "346 7.929922491777688 0.267781222704798 0.023958531208336353\n",
      "347 7.931330941151828 0.2883759804535657 0.020679159089922905\n",
      "348 7.930915225762874 0.2537754285149276 0.02092914585955441\n",
      "349 7.931112247984856 0.28913631732575595 0.02031824621371925\n",
      "350 7.926752997096628 0.22606503870338202 0.019796078791841865\n",
      "351 7.927740592043847 0.22163442615419626 0.019903372274711728\n",
      "352 7.943692218046635 0.21431700722314417 0.019615589175373316\n",
      "353 7.934210279025137 0.22067649732343853 0.019712171284481883\n",
      "354 7.9289702088572085 0.22362015419639647 0.019962243968620896\n",
      "355 7.9268334922380745 0.2255402710288763 0.02051926450803876\n",
      "356 7.9315543649718165 0.21542870998382568 0.020126754185184836\n",
      "357 7.9288116679526865 0.213241680059582 0.01969976327382028\n",
      "358 7.9292279672808945 0.21597787621431053 0.020821747137233615\n",
      "359 7.928425320889801 0.22307413909584284 0.02067903382703662\n",
      "360 7.928615655750036 0.22109080711379647 0.02056178729981184\n",
      "361 7.9348499472253025 0.22281257063150406 0.02022659289650619\n",
      "362 7.934708482120186 0.2177596006076783 0.020507716108113527\n",
      "363 7.933873583097011 0.21678642346523702 0.019659039564430714\n",
      "364 7.934194323141128 0.23446388659067452 0.021003841422498226\n",
      "365 7.93016566708684 0.22064627381041646 0.023078593891113997\n",
      "366 7.934828645084053 0.2264891027007252 0.02415096410550177\n",
      "367 7.946321967057884 0.21937101194635034 0.01967807998880744\n",
      "368 7.935518478043377 0.2171574409585446 0.01976153044961393\n",
      "369 7.934707377105951 0.21514956140890718 0.02042840071953833\n",
      "370 7.9307022439315915 0.22106703324243426 0.02065727859735489\n",
      "371 7.93979577999562 0.2237518064212054 0.019681489560753107\n",
      "372 7.922423356212676 0.21592227439396083 0.022502720821648836\n",
      "373 7.923292424995452 0.22035998152568936 0.019571102922782302\n",
      "374 7.924785576295108 0.2683758558705449 0.027692061848938465\n",
      "375 7.9295051279477775 0.22340101469308138 0.019318382954224944\n",
      "376 7.93388227885589 0.2222315662074834 0.027618353255093098\n",
      "377 7.931810862850398 0.26519900164566934 0.025074112229049206\n",
      "378 7.933372725266963 0.2526312517002225 0.024482538923621178\n",
      "379 7.927078865002841 0.23185009113512933 0.01996640767902136\n",
      "380 7.930462802294642 0.2145272644702345 0.019928737776353955\n",
      "381 7.93537143105641 0.23998651187866926 0.029468713328242302\n",
      "382 7.945157120004296 0.2565920159686357 0.02071293513290584\n",
      "383 7.93193214898929 0.23166618426330388 0.022819374687969685\n",
      "384 7.929170915856957 0.2190823268610984 0.021616845158860087\n",
      "385 7.930390949826688 0.22067237179726362 0.020736878039315343\n",
      "386 7.930823510047048 0.22095630527473986 0.02066486980766058\n",
      "387 7.931890629697591 0.22924242075532675 0.01924774399958551\n",
      "388 7.931179478764534 0.22175903199240565 0.021423183381557465\n",
      "389 7.931848492007703 0.21518462453968823 0.018674736376851797\n",
      "390 7.930153768975288 0.2089547524228692 0.019582535605877638\n",
      "391 7.892142389900982 0.21428921539336443 0.020447945222258568\n",
      "392 7.832459844183177 0.21307827066630125 0.02172709791921079\n",
      "393 7.9000798729248345 0.21073418599553406 0.018450938165187836\n",
      "394 7.967881228774786 0.21741388947702944 0.018924664240330458\n",
      "395 7.979550685733557 0.21953907702118158 0.019459322560578585\n",
      "396 7.96955052157864 0.2616212284192443 0.01894619525410235\n",
      "397 7.934428276959807 0.21969408472068608 0.0191396267618984\n",
      "398 7.8509827218949795 0.20991068403236568 0.01974003459326923\n",
      "399 7.843482248019427 0.2506213774904609 0.02387316571548581\n",
      "400 7.968558295164257 0.20729132532142103 0.018252430018037558\n",
      "401 8.095111415255815 0.2004182473756373 0.018597817048430443\n",
      "402 7.916715798899531 0.19703098526224494 0.01853053434751928\n",
      "403 7.91841535596177 0.20205923216417432 0.018359108129516244\n",
      "404 7.917985188309103 0.19847250147722661 0.01845811540260911\n",
      "405 7.919110595714301 0.19871117803268135 0.018496178090572357\n",
      "406 7.915591179858893 0.1976036357227713 0.019591354299336672\n"
     ]
    },
    {
     "name": "stdout",
     "output_type": "stream",
     "text": [
      "407 7.912862201221287 0.1975225501228124 0.018024395452812314\n",
      "408 7.916358522605151 0.1987458395306021 0.01855638949200511\n",
      "409 7.915400041267276 0.20117521448992193 0.01872451463714242\n",
      "410 7.91626150207594 0.1984666809439659 0.018725153524428606\n",
      "411 7.91738409223035 0.19924669852480292 0.018246852792799473\n",
      "412 7.927611439023167 0.19861452304758132 0.018327060621231794\n",
      "413 7.924559369217604 0.19903642195276916 0.018558898475021124\n",
      "414 7.919131008908153 0.20211330172605813 0.019187067169696093\n",
      "415 7.914690522942692 0.20354964188300073 0.018497402546927333\n",
      "416 7.911393141839653 0.198336185188964 0.01864852919243276\n",
      "417 7.914996152743697 0.2023683397565037 0.018102047499269247\n",
      "418 7.915272224228829 0.19637951883487403 0.01938648335635662\n",
      "419 7.912168508861214 0.20442837639711797 0.01872215373441577\n",
      "420 7.91462978720665 0.19977882551029325 0.018513171933591366\n",
      "421 7.913539649918675 0.1975901024416089 0.01992839272134006\n",
      "422 7.912132038269192 0.20790755981579423 0.01967613399028778\n",
      "423 7.913103946950287 0.2039105088915676 0.018228798173367977\n",
      "424 7.9155800002627075 0.19799221074208617 0.019846577662974596\n",
      "425 7.911979217082262 0.20044003101065755 0.018837861716747284\n",
      "426 7.913656088989228 0.20166282635182142 0.01903598033823073\n",
      "427 7.916588014923036 0.19749473268166184 0.019207487115636468\n",
      "428 7.908375593833625 0.1976731268223375 0.01796004897914827\n",
      "429 7.817994401790202 0.19746174849569798 0.01945439330302179\n",
      "430 7.914953431114554 0.19867180613800883 0.018543357495218515\n",
      "431 7.994108443148434 0.19556916039437056 0.01947328564710915\n",
      "432 7.985938121099025 0.20229492313228548 0.019462802913039923\n",
      "433 7.876751060131937 0.20282786362804472 0.019800041103735566\n",
      "434 7.865315655712038 0.1976788924075663 0.01832874841056764\n",
      "435 7.851464862935245 0.20535034406930208 0.018762883497402072\n",
      "436 7.8505677306093276 0.1961556770838797 0.018301171250641346\n",
      "437 8.002046753186733 0.19825767120346427 0.01842893217690289\n",
      "438 7.988893460016698 0.20230642636306584 0.01921864436008036\n",
      "439 7.870698323007673 0.20435820519924164 0.019384798128157854\n",
      "440 7.870466699823737 0.20353763760067523 0.018412800272926688\n",
      "441 7.873600422870368 0.20111877098679543 0.01841805293224752\n",
      "442 7.877017175778747 0.19802473788149655 0.018573960987851024\n",
      "443 7.887590783648193 0.206915462622419 0.019088674802333117\n",
      "444 7.874596452806145 0.20347545691765845 0.020773859694600105\n",
      "445 7.876065059099346 0.19703360530547798 0.01827254588715732\n",
      "446 7.978645248804241 0.19514700211584568 0.018732049269601703\n",
      "447 8.075972825288773 0.19445313955657184 0.018250469816848636\n",
      "448 7.9380631018429995 0.19527490553446114 0.017762882634997368\n",
      "449 7.903139782138169 0.19528244412504137 0.01820171973668039\n",
      "450 7.832511709071696 0.18960121250711381 0.01751532545313239\n",
      "451 7.841196113266051 0.18915397115051746 0.017763009993359447\n",
      "452 8.016317833214998 0.18862680066376925 0.01758842123672366\n",
      "453 8.049956091679633 0.18847643351182342 0.017831961624324322\n",
      "454 7.896034450735897 0.18881720630452037 0.01771609764546156\n",
      "455 7.89857490407303 0.18988972925581038 0.017713978420943022\n",
      "456 7.899655181914568 0.19023584108799696 0.018004460958763957\n",
      "457 7.901078821159899 0.18934672605246305 0.017753686057403684\n",
      "458 7.918915186077356 0.19226201227866113 0.017872467637062073\n",
      "459 7.9007812067866325 0.1888923712540418 0.017484653741121292\n",
      "460 7.902295028790832 0.18773824395611882 0.017649804707616568\n",
      "461 7.900092537049204 0.18871420016512275 0.01769868563860655\n",
      "462 7.906716370023787 0.19039719551801682 0.017730792285874486\n",
      "463 7.904310064855963 0.1880011281464249 0.018044397933408618\n",
      "464 7.900582293048501 0.1894449049141258 0.017629046458750963\n",
      "465 7.899184951093048 0.18926803837530315 0.01804742543026805\n",
      "466 7.908296210691333 0.19524449249729514 0.017736215610057116\n",
      "467 7.909190637990832 0.1887116066645831 0.017655446426942945\n",
      "468 7.902311665005982 0.18923194683156908 0.017953077796846628\n",
      "469 7.901499991770834 0.1895968858152628 0.01761302654631436\n",
      "470 7.90242599369958 0.188514010515064 0.017836660612374544\n",
      "471 7.89911976410076 0.189891999354586 0.01778503879904747\n",
      "472 7.906128402799368 0.1900351056829095 0.017896062461659312\n",
      "473 7.921953258104622 0.1889482457190752 0.017455192748457193\n",
      "474 7.907914739102125 0.18807913223281503 0.018499092431738973\n",
      "475 7.9028413109481335 0.1888805627822876 0.017519590677693486\n",
      "476 7.903452151920646 0.192424226552248 0.01806947635486722\n",
      "477 7.902807920705527 0.18809657846577466 0.01753591769374907\n",
      "478 7.8981668199412525 0.18805315671488643 0.017755959182977676\n",
      "479 7.899605375248939 0.18887830153107643 0.018059367313981056\n",
      "480 7.904098057653755 0.190063911722973 0.018734811572358012\n",
      "481 7.900992162991315 0.19091365090571344 0.017311201663687825\n",
      "482 7.905625938437879 0.18914758414030075 0.017321369610726833\n",
      "483 7.907436488196254 0.1868435819633305 0.017479044385254383\n",
      "484 7.904048439115286 0.19226387212984264 0.018070279620587826\n",
      "485 7.903459765017033 0.1910509467124939 0.01797289843671024\n",
      "486 7.903310275636613 0.18835845543071628 0.01770529057830572\n",
      "487 7.900975001975894 0.191464907489717 0.018351849634200335\n",
      "488 7.912516605574638 0.18947193841449916 0.017623948864638805\n",
      "489 7.9080327451229095 0.19151377212256193 0.01788101950660348\n",
      "490 7.906085281632841 0.1873594445642084 0.017620985861867666\n",
      "491 7.904491499997675 0.18771021510474384 0.017463412368670106\n",
      "492 7.904491695109755 0.1870762628968805 0.01736990804784\n",
      "493 7.910105419810861 0.1887783338315785 0.0176442451775074\n",
      "494 7.907289661001414 0.1862972672097385 0.017735507572069764\n",
      "495 7.909017501864582 0.186676126671955 0.017824605340138078\n",
      "496 7.904156920034438 0.18836513790301979 0.017466504825279117\n",
      "497 7.894463955890387 0.1889249875675887 0.01761636254377663\n",
      "498 7.898294010665268 0.1877530701458454 0.017767981393262744\n",
      "499 7.901534351985902 0.18681062432006001 0.01751509658060968\n"
     ]
    }
   ],
   "source": [
    "################################################################\n",
    "# training and evaluation\n",
    "################################################################\n",
    "optimizer = Adam(model.parameters(), lr=learning_rate, weight_decay=1e-4)\n",
    "scheduler = torch.optim.lr_scheduler.StepLR(optimizer, step_size=step_size, gamma=gamma)\n",
    "\n",
    "myloss = LpLoss(size_average=False)\n",
    "for ep in range(epochs):\n",
    "    model.train()\n",
    "    t1 = default_timer()\n",
    "    train_l2_full = 0\n",
    "    train_l2 = 0\n",
    "    j=1\n",
    "    for xx, yy in train_loader:\n",
    "        loss = 0\n",
    "        xx, yy = xx.cuda(), yy.cuda()\n",
    "        \n",
    "        for t in range(0,T,step):\n",
    "            #print('it enters')\n",
    "            y = yy[..., t:t+step]\n",
    "            out = model(xx)\n",
    "            loss += myloss(out.reshape(batch_size, -1), y.reshape(batch_size, -1))\n",
    "            #print('it reaches')\n",
    "            \n",
    "            if t == 0:\n",
    "                pred = out\n",
    "            else:\n",
    "                pred = torch.cat((pred, out), -1)\n",
    "                \n",
    "            xx = torch.cat((xx[..., step:],out),dim=-1)\n",
    "\n",
    "        optimizer.zero_grad()\n",
    "        #mse = F.mse_loss(out.view(batch_size, -1), y.view(batch_size, -1), reduction='mean')\n",
    "        #l2 = myloss(out.view(batch_size, -1), y.view(batch_size, -1))\n",
    "        loss.backward() # use the l2 relative loss\n",
    "        optimizer.step()\n",
    "                           \n",
    "                           \n",
    "        #train_mse += mse.item()\n",
    "        train_l2 += loss.item()\n",
    "        l2_full = myloss(pred.reshape(batch_size, -1), yy.reshape(batch_size, -1))\n",
    "        train_l2_full += l2_full.item()\n",
    "\n",
    "    scheduler.step()\n",
    "    model.eval()\n",
    "    test_l2 = 0\n",
    "    test_l2_full = 0\n",
    "    j=1\n",
    "    with torch.no_grad():\n",
    "        for xx, yy in test_loader:\n",
    "            loss = 0\n",
    "            xx, yy = xx.cuda(), yy.cuda()\n",
    "        \n",
    "            for t in range(0,T,step):\n",
    "                #print('test')\n",
    "                y = yy[..., t:t+step]\n",
    "                out = model(xx)\n",
    "                loss += myloss(out.reshape(batch_size, -1), y.reshape(batch_size, -1))\n",
    "            \n",
    "                if t == 0:\n",
    "                    pred = out\n",
    "                else:\n",
    "                    pred = torch.cat((pred, out), -1)\n",
    "                \n",
    "                xx = torch.cat((xx[..., step:],out),dim=-1)\n",
    "                           \n",
    "            #test_mse += mse.item()\n",
    "            test_l2 += loss.item()\n",
    "            test_l2_full += myloss(pred.reshape(batch_size, -1), yy.reshape(batch_size, -1)).item()\n",
    "                               \n",
    "    t2 = default_timer()\n",
    "    print(ep, t2-t1, train_l2_full, test_l2_full)\n",
    "\n",
    "\n",
    "#pred = torch.zeros(y_test.shape)\n",
    "#index = 0\n",
    "#test_loader = torch.utils.data.DataLoader(torch.utils.data.TensorDataset(x_test, y_test), batch_size=1, shuffle=False)\n",
    "#with torch.no_grad():\n",
    "#    for x, y in test_loader:\n",
    "#        test_l2 = 0\n",
    "#        x, y = x.cuda(), y.cuda()\n",
    "\n",
    "#        out = model(x).view(-1)\n",
    "#        pred[index] = out\n",
    "\n",
    "#        test_l2 += myloss(out.view(1, -1), y.view(1, -1)).item()\n",
    "#        print(index, test_l2)\n",
    "#        index = index + 1\n",
    "\n",
    "#scipy.io.savemat('pred/burger_test.mat', mdict={'pred': pred.cpu().numpy()})\n"
   ]
  },
  {
   "cell_type": "code",
   "execution_count": 32,
   "id": "7c51d39e",
   "metadata": {},
   "outputs": [
    {
     "data": {
      "text/plain": [
       "torch.Size([20, 1024, 10])"
      ]
     },
     "execution_count": 32,
     "metadata": {},
     "output_type": "execute_result"
    }
   ],
   "source": [
    "pred.shape"
   ]
  },
  {
   "cell_type": "code",
   "execution_count": 40,
   "id": "ab9085e7",
   "metadata": {},
   "outputs": [
    {
     "ename": "FileNotFoundError",
     "evalue": "[Errno 2] No such file or directory: 'model/ns_fourier_burgers'",
     "output_type": "error",
     "traceback": [
      "\u001b[0;31m---------------------------------------------------------------------------\u001b[0m",
      "\u001b[0;31mFileNotFoundError\u001b[0m                         Traceback (most recent call last)",
      "\u001b[0;32m/tmp/ipykernel_1690132/3480704115.py\u001b[0m in \u001b[0;36m<module>\u001b[0;34m\u001b[0m\n\u001b[0;32m----> 1\u001b[0;31m \u001b[0mtorch\u001b[0m\u001b[0;34m.\u001b[0m\u001b[0msave\u001b[0m\u001b[0;34m(\u001b[0m\u001b[0mmodel\u001b[0m\u001b[0;34m,\u001b[0m \u001b[0;34m'model/ns_fourier_burgers'\u001b[0m\u001b[0;34m)\u001b[0m\u001b[0;34m\u001b[0m\u001b[0;34m\u001b[0m\u001b[0m\n\u001b[0m",
      "\u001b[0;32m~/anaconda3/envs/torch_gpu/lib/python3.9/site-packages/torch/serialization.py\u001b[0m in \u001b[0;36msave\u001b[0;34m(obj, f, pickle_module, pickle_protocol, _use_new_zipfile_serialization)\u001b[0m\n\u001b[1;32m    374\u001b[0m     \u001b[0m_check_dill_version\u001b[0m\u001b[0;34m(\u001b[0m\u001b[0mpickle_module\u001b[0m\u001b[0;34m)\u001b[0m\u001b[0;34m\u001b[0m\u001b[0;34m\u001b[0m\u001b[0m\n\u001b[1;32m    375\u001b[0m \u001b[0;34m\u001b[0m\u001b[0m\n\u001b[0;32m--> 376\u001b[0;31m     \u001b[0;32mwith\u001b[0m \u001b[0m_open_file_like\u001b[0m\u001b[0;34m(\u001b[0m\u001b[0mf\u001b[0m\u001b[0;34m,\u001b[0m \u001b[0;34m'wb'\u001b[0m\u001b[0;34m)\u001b[0m \u001b[0;32mas\u001b[0m \u001b[0mopened_file\u001b[0m\u001b[0;34m:\u001b[0m\u001b[0;34m\u001b[0m\u001b[0;34m\u001b[0m\u001b[0m\n\u001b[0m\u001b[1;32m    377\u001b[0m         \u001b[0;32mif\u001b[0m \u001b[0m_use_new_zipfile_serialization\u001b[0m\u001b[0;34m:\u001b[0m\u001b[0;34m\u001b[0m\u001b[0;34m\u001b[0m\u001b[0m\n\u001b[1;32m    378\u001b[0m             \u001b[0;32mwith\u001b[0m \u001b[0m_open_zipfile_writer\u001b[0m\u001b[0;34m(\u001b[0m\u001b[0mopened_file\u001b[0m\u001b[0;34m)\u001b[0m \u001b[0;32mas\u001b[0m \u001b[0mopened_zipfile\u001b[0m\u001b[0;34m:\u001b[0m\u001b[0;34m\u001b[0m\u001b[0;34m\u001b[0m\u001b[0m\n",
      "\u001b[0;32m~/anaconda3/envs/torch_gpu/lib/python3.9/site-packages/torch/serialization.py\u001b[0m in \u001b[0;36m_open_file_like\u001b[0;34m(name_or_buffer, mode)\u001b[0m\n\u001b[1;32m    228\u001b[0m \u001b[0;32mdef\u001b[0m \u001b[0m_open_file_like\u001b[0m\u001b[0;34m(\u001b[0m\u001b[0mname_or_buffer\u001b[0m\u001b[0;34m,\u001b[0m \u001b[0mmode\u001b[0m\u001b[0;34m)\u001b[0m\u001b[0;34m:\u001b[0m\u001b[0;34m\u001b[0m\u001b[0;34m\u001b[0m\u001b[0m\n\u001b[1;32m    229\u001b[0m     \u001b[0;32mif\u001b[0m \u001b[0m_is_path\u001b[0m\u001b[0;34m(\u001b[0m\u001b[0mname_or_buffer\u001b[0m\u001b[0;34m)\u001b[0m\u001b[0;34m:\u001b[0m\u001b[0;34m\u001b[0m\u001b[0;34m\u001b[0m\u001b[0m\n\u001b[0;32m--> 230\u001b[0;31m         \u001b[0;32mreturn\u001b[0m \u001b[0m_open_file\u001b[0m\u001b[0;34m(\u001b[0m\u001b[0mname_or_buffer\u001b[0m\u001b[0;34m,\u001b[0m \u001b[0mmode\u001b[0m\u001b[0;34m)\u001b[0m\u001b[0;34m\u001b[0m\u001b[0;34m\u001b[0m\u001b[0m\n\u001b[0m\u001b[1;32m    231\u001b[0m     \u001b[0;32melse\u001b[0m\u001b[0;34m:\u001b[0m\u001b[0;34m\u001b[0m\u001b[0;34m\u001b[0m\u001b[0m\n\u001b[1;32m    232\u001b[0m         \u001b[0;32mif\u001b[0m \u001b[0;34m'w'\u001b[0m \u001b[0;32min\u001b[0m \u001b[0mmode\u001b[0m\u001b[0;34m:\u001b[0m\u001b[0;34m\u001b[0m\u001b[0;34m\u001b[0m\u001b[0m\n",
      "\u001b[0;32m~/anaconda3/envs/torch_gpu/lib/python3.9/site-packages/torch/serialization.py\u001b[0m in \u001b[0;36m__init__\u001b[0;34m(self, name, mode)\u001b[0m\n\u001b[1;32m    209\u001b[0m \u001b[0;32mclass\u001b[0m \u001b[0m_open_file\u001b[0m\u001b[0;34m(\u001b[0m\u001b[0m_opener\u001b[0m\u001b[0;34m)\u001b[0m\u001b[0;34m:\u001b[0m\u001b[0;34m\u001b[0m\u001b[0;34m\u001b[0m\u001b[0m\n\u001b[1;32m    210\u001b[0m     \u001b[0;32mdef\u001b[0m \u001b[0m__init__\u001b[0m\u001b[0;34m(\u001b[0m\u001b[0mself\u001b[0m\u001b[0;34m,\u001b[0m \u001b[0mname\u001b[0m\u001b[0;34m,\u001b[0m \u001b[0mmode\u001b[0m\u001b[0;34m)\u001b[0m\u001b[0;34m:\u001b[0m\u001b[0;34m\u001b[0m\u001b[0;34m\u001b[0m\u001b[0m\n\u001b[0;32m--> 211\u001b[0;31m         \u001b[0msuper\u001b[0m\u001b[0;34m(\u001b[0m\u001b[0m_open_file\u001b[0m\u001b[0;34m,\u001b[0m \u001b[0mself\u001b[0m\u001b[0;34m)\u001b[0m\u001b[0;34m.\u001b[0m\u001b[0m__init__\u001b[0m\u001b[0;34m(\u001b[0m\u001b[0mopen\u001b[0m\u001b[0;34m(\u001b[0m\u001b[0mname\u001b[0m\u001b[0;34m,\u001b[0m \u001b[0mmode\u001b[0m\u001b[0;34m)\u001b[0m\u001b[0;34m)\u001b[0m\u001b[0;34m\u001b[0m\u001b[0;34m\u001b[0m\u001b[0m\n\u001b[0m\u001b[1;32m    212\u001b[0m \u001b[0;34m\u001b[0m\u001b[0m\n\u001b[1;32m    213\u001b[0m     \u001b[0;32mdef\u001b[0m \u001b[0m__exit__\u001b[0m\u001b[0;34m(\u001b[0m\u001b[0mself\u001b[0m\u001b[0;34m,\u001b[0m \u001b[0;34m*\u001b[0m\u001b[0margs\u001b[0m\u001b[0;34m)\u001b[0m\u001b[0;34m:\u001b[0m\u001b[0;34m\u001b[0m\u001b[0;34m\u001b[0m\u001b[0m\n",
      "\u001b[0;31mFileNotFoundError\u001b[0m: [Errno 2] No such file or directory: 'model/ns_fourier_burgers'"
     ]
    }
   ],
   "source": [
    "torch.save(model, 'model/ns_fourier_burgers')"
   ]
  },
  {
   "cell_type": "code",
   "execution_count": null,
   "id": "87ea6e07",
   "metadata": {},
   "outputs": [],
   "source": [
    "out.shape"
   ]
  },
  {
   "cell_type": "code",
   "execution_count": null,
   "id": "a44b9730",
   "metadata": {},
   "outputs": [],
   "source": [
    "x_train.shape"
   ]
  },
  {
   "cell_type": "code",
   "execution_count": null,
   "id": "235b16aa",
   "metadata": {},
   "outputs": [],
   "source": [
    "y_train.shape"
   ]
  },
  {
   "cell_type": "code",
   "execution_count": null,
   "id": "1ae31adb",
   "metadata": {},
   "outputs": [],
   "source": [
    "x_data.shape"
   ]
  },
  {
   "cell_type": "code",
   "execution_count": null,
   "id": "00befcbf",
   "metadata": {},
   "outputs": [],
   "source": [
    "y_test.shape"
   ]
  },
  {
   "cell_type": "code",
   "execution_count": 39,
   "id": "c19b988a",
   "metadata": {},
   "outputs": [
    {
     "data": {
      "image/png": "[encoded data removed]",
      "text/plain": [
       "<Figure size 432x288 with 1 Axes>"
      ]
     },
     "metadata": {
      "needs_background": "light"
     },
     "output_type": "display_data"
    }
   ],
   "source": [
    "plt.plot(pred[-20,:].detach().cpu().numpy(),'k')\n",
    "\n",
    "plt.plot(y_test[-20,:,:].cpu().numpy(), 'r')\n",
    "\n",
    "plt.show()"
   ]
  },
  {
   "cell_type": "code",
   "execution_count": null,
   "id": "df3f69de",
   "metadata": {},
   "outputs": [],
   "source": [
    "plt.plot(x_test[-1,:,:].cpu().numpy())"
   ]
  },
  {
   "cell_type": "code",
   "execution_count": null,
   "id": "7b7d7fd2",
   "metadata": {},
   "outputs": [],
   "source": [
    "w_cat.shape"
   ]
  },
  {
   "cell_type": "code",
   "execution_count": null,
   "id": "80c40752",
   "metadata": {},
   "outputs": [],
   "source": [
    "torch.cat((U[:,:,1:10],w),dim=-1).shape"
   ]
  },
  {
   "cell_type": "markdown",
   "id": "2f7ca0e0",
   "metadata": {},
   "source": [
    "# Smaller dt=0.02 - Learning"
   ]
  },
  {
   "cell_type": "code",
   "execution_count": 39,
   "id": "e351ae7c",
   "metadata": {},
   "outputs": [
    {
     "ename": "RuntimeError",
     "evalue": "CUDA out of memory. Tried to allocate 2.00 MiB (GPU 0; 7.93 GiB total capacity; 1.90 GiB already allocated; 22.69 MiB free; 2.27 GiB reserved in total by PyTorch) If reserved memory is >> allocated memory try setting max_split_size_mb to avoid fragmentation.  See documentation for Memory Management and PYTORCH_CUDA_ALLOC_CONF",
     "output_type": "error",
     "traceback": [
      "\u001b[0;31m---------------------------------------------------------------------------\u001b[0m",
      "\u001b[0;31mRuntimeError\u001b[0m                              Traceback (most recent call last)",
      "\u001b[0;32m/tmp/ipykernel_1690132/1138723224.py\u001b[0m in \u001b[0;36m<module>\u001b[0;34m\u001b[0m\n\u001b[1;32m      1\u001b[0m \u001b[0mtime\u001b[0m \u001b[0;34m=\u001b[0m \u001b[0;34m[\u001b[0m\u001b[0;34m]\u001b[0m\u001b[0;34m\u001b[0m\u001b[0;34m\u001b[0m\u001b[0m\n\u001b[0;32m----> 2\u001b[0;31m \u001b[0mw\u001b[0m \u001b[0;34m=\u001b[0m \u001b[0mmodel\u001b[0m\u001b[0;34m(\u001b[0m\u001b[0mU\u001b[0m\u001b[0;34m[\u001b[0m\u001b[0;34m:\u001b[0m\u001b[0;34m,\u001b[0m\u001b[0;34m:\u001b[0m\u001b[0;34m,\u001b[0m\u001b[0;36m0\u001b[0m\u001b[0;34m:\u001b[0m\u001b[0;36m10\u001b[0m\u001b[0;34m]\u001b[0m\u001b[0;34m)\u001b[0m\u001b[0;34m\u001b[0m\u001b[0;34m\u001b[0m\u001b[0m\n\u001b[0m",
      "\u001b[0;32m~/anaconda3/envs/torch_gpu/lib/python3.9/site-packages/torch/nn/modules/module.py\u001b[0m in \u001b[0;36m_call_impl\u001b[0;34m(self, *input, **kwargs)\u001b[0m\n\u001b[1;32m   1100\u001b[0m         if not (self._backward_hooks or self._forward_hooks or self._forward_pre_hooks or _global_backward_hooks\n\u001b[1;32m   1101\u001b[0m                 or _global_forward_hooks or _global_forward_pre_hooks):\n\u001b[0;32m-> 1102\u001b[0;31m             \u001b[0;32mreturn\u001b[0m \u001b[0mforward_call\u001b[0m\u001b[0;34m(\u001b[0m\u001b[0;34m*\u001b[0m\u001b[0minput\u001b[0m\u001b[0;34m,\u001b[0m \u001b[0;34m**\u001b[0m\u001b[0mkwargs\u001b[0m\u001b[0;34m)\u001b[0m\u001b[0;34m\u001b[0m\u001b[0;34m\u001b[0m\u001b[0m\n\u001b[0m\u001b[1;32m   1103\u001b[0m         \u001b[0;31m# Do not call functions when jit is used\u001b[0m\u001b[0;34m\u001b[0m\u001b[0;34m\u001b[0m\u001b[0m\n\u001b[1;32m   1104\u001b[0m         \u001b[0mfull_backward_hooks\u001b[0m\u001b[0;34m,\u001b[0m \u001b[0mnon_full_backward_hooks\u001b[0m \u001b[0;34m=\u001b[0m \u001b[0;34m[\u001b[0m\u001b[0;34m]\u001b[0m\u001b[0;34m,\u001b[0m \u001b[0;34m[\u001b[0m\u001b[0;34m]\u001b[0m\u001b[0;34m\u001b[0m\u001b[0;34m\u001b[0m\u001b[0m\n",
      "\u001b[0;32m/tmp/ipykernel_1690132/1346035740.py\u001b[0m in \u001b[0;36mforward\u001b[0;34m(self, x)\u001b[0m\n\u001b[1;32m     90\u001b[0m         \u001b[0mx\u001b[0m \u001b[0;34m=\u001b[0m \u001b[0mF\u001b[0m\u001b[0;34m.\u001b[0m\u001b[0mgelu\u001b[0m\u001b[0;34m(\u001b[0m\u001b[0mx\u001b[0m\u001b[0;34m)\u001b[0m\u001b[0;34m\u001b[0m\u001b[0;34m\u001b[0m\u001b[0m\n\u001b[1;32m     91\u001b[0m \u001b[0;34m\u001b[0m\u001b[0m\n\u001b[0;32m---> 92\u001b[0;31m         \u001b[0mx1\u001b[0m \u001b[0;34m=\u001b[0m \u001b[0mself\u001b[0m\u001b[0;34m.\u001b[0m\u001b[0mconv2\u001b[0m\u001b[0;34m(\u001b[0m\u001b[0mx\u001b[0m\u001b[0;34m)\u001b[0m\u001b[0;34m\u001b[0m\u001b[0;34m\u001b[0m\u001b[0m\n\u001b[0m\u001b[1;32m     93\u001b[0m         \u001b[0mx2\u001b[0m \u001b[0;34m=\u001b[0m \u001b[0mself\u001b[0m\u001b[0;34m.\u001b[0m\u001b[0mw2\u001b[0m\u001b[0;34m(\u001b[0m\u001b[0mx\u001b[0m\u001b[0;34m)\u001b[0m\u001b[0;34m\u001b[0m\u001b[0;34m\u001b[0m\u001b[0m\n\u001b[1;32m     94\u001b[0m         \u001b[0mx\u001b[0m \u001b[0;34m=\u001b[0m \u001b[0mx1\u001b[0m \u001b[0;34m+\u001b[0m \u001b[0mx2\u001b[0m\u001b[0;34m\u001b[0m\u001b[0;34m\u001b[0m\u001b[0m\n",
      "\u001b[0;32m~/anaconda3/envs/torch_gpu/lib/python3.9/site-packages/torch/nn/modules/module.py\u001b[0m in \u001b[0;36m_call_impl\u001b[0;34m(self, *input, **kwargs)\u001b[0m\n\u001b[1;32m   1100\u001b[0m         if not (self._backward_hooks or self._forward_hooks or self._forward_pre_hooks or _global_backward_hooks\n\u001b[1;32m   1101\u001b[0m                 or _global_forward_hooks or _global_forward_pre_hooks):\n\u001b[0;32m-> 1102\u001b[0;31m             \u001b[0;32mreturn\u001b[0m \u001b[0mforward_call\u001b[0m\u001b[0;34m(\u001b[0m\u001b[0;34m*\u001b[0m\u001b[0minput\u001b[0m\u001b[0;34m,\u001b[0m \u001b[0;34m**\u001b[0m\u001b[0mkwargs\u001b[0m\u001b[0;34m)\u001b[0m\u001b[0;34m\u001b[0m\u001b[0;34m\u001b[0m\u001b[0m\n\u001b[0m\u001b[1;32m   1103\u001b[0m         \u001b[0;31m# Do not call functions when jit is used\u001b[0m\u001b[0;34m\u001b[0m\u001b[0;34m\u001b[0m\u001b[0m\n\u001b[1;32m   1104\u001b[0m         \u001b[0mfull_backward_hooks\u001b[0m\u001b[0;34m,\u001b[0m \u001b[0mnon_full_backward_hooks\u001b[0m \u001b[0;34m=\u001b[0m \u001b[0;34m[\u001b[0m\u001b[0;34m]\u001b[0m\u001b[0;34m,\u001b[0m \u001b[0;34m[\u001b[0m\u001b[0;34m]\u001b[0m\u001b[0;34m\u001b[0m\u001b[0;34m\u001b[0m\u001b[0m\n",
      "\u001b[0;32m/tmp/ipykernel_1690132/1346035740.py\u001b[0m in \u001b[0;36mforward\u001b[0;34m(self, x)\u001b[0m\n\u001b[1;32m     36\u001b[0m \u001b[0;34m\u001b[0m\u001b[0m\n\u001b[1;32m     37\u001b[0m         \u001b[0;31m#Return to physical space\u001b[0m\u001b[0;34m\u001b[0m\u001b[0;34m\u001b[0m\u001b[0m\n\u001b[0;32m---> 38\u001b[0;31m         \u001b[0mx\u001b[0m \u001b[0;34m=\u001b[0m \u001b[0mtorch\u001b[0m\u001b[0;34m.\u001b[0m\u001b[0mfft\u001b[0m\u001b[0;34m.\u001b[0m\u001b[0mirfft\u001b[0m\u001b[0;34m(\u001b[0m\u001b[0mout_ft\u001b[0m\u001b[0;34m,\u001b[0m \u001b[0mn\u001b[0m\u001b[0;34m=\u001b[0m\u001b[0mx\u001b[0m\u001b[0;34m.\u001b[0m\u001b[0msize\u001b[0m\u001b[0;34m(\u001b[0m\u001b[0;34m-\u001b[0m\u001b[0;36m1\u001b[0m\u001b[0;34m)\u001b[0m\u001b[0;34m)\u001b[0m\u001b[0;34m\u001b[0m\u001b[0;34m\u001b[0m\u001b[0m\n\u001b[0m\u001b[1;32m     39\u001b[0m         \u001b[0;32mreturn\u001b[0m \u001b[0mx\u001b[0m\u001b[0;34m\u001b[0m\u001b[0;34m\u001b[0m\u001b[0m\n\u001b[1;32m     40\u001b[0m \u001b[0;34m\u001b[0m\u001b[0m\n",
      "\u001b[0;31mRuntimeError\u001b[0m: CUDA out of memory. Tried to allocate 2.00 MiB (GPU 0; 7.93 GiB total capacity; 1.90 GiB already allocated; 22.69 MiB free; 2.27 GiB reserved in total by PyTorch) If reserved memory is >> allocated memory try setting max_split_size_mb to avoid fragmentation.  See documentation for Memory Management and PYTORCH_CUDA_ALLOC_CONF"
     ]
    }
   ],
   "source": [
    "time = []\n",
    "w = model(U[:,:,0:10])"
   ]
  },
  {
   "cell_type": "code",
   "execution_count": 132,
   "id": "eed87bca",
   "metadata": {},
   "outputs": [
    {
     "data": {
      "text/plain": [
       "torch.Size([1, 1024, 1])"
      ]
     },
     "execution_count": 132,
     "metadata": {},
     "output_type": "execute_result"
    }
   ],
   "source": [
    "w.shape"
   ]
  },
  {
   "cell_type": "code",
   "execution_count": 142,
   "id": "2978a5ca",
   "metadata": {},
   "outputs": [
    {
     "data": {
      "image/png": "[encoded data removed]",
      "text/plain": [
       "<Figure size 432x288 with 1 Axes>"
      ]
     },
     "metadata": {
      "needs_background": "light"
     },
     "output_type": "display_data"
    }
   ],
   "source": [
    "plt.plot(w[-1,:].detach().cpu().numpy(), 'k')\n",
    "plt.plot(U[-1,:,11].cpu().numpy())\n",
    "plt.show()"
   ]
  },
  {
   "cell_type": "code",
   "execution_count": 134,
   "id": "aeed5667",
   "metadata": {},
   "outputs": [
    {
     "data": {
      "image/png": "[encoded data removed]",
      "text/plain": [
       "<Figure size 432x288 with 1 Axes>"
      ]
     },
     "metadata": {
      "needs_background": "light"
     },
     "output_type": "display_data"
    }
   ],
   "source": [
    "for i in range(0,10):\n",
    "    plt.plot(U[-1,:,i].cpu().numpy())"
   ]
  },
  {
   "cell_type": "code",
   "execution_count": 119,
   "id": "06d64724",
   "metadata": {},
   "outputs": [
    {
     "data": {
      "text/plain": [
       "torch.Size([1, 1024])"
      ]
     },
     "execution_count": 119,
     "metadata": {},
     "output_type": "execute_result"
    }
   ],
   "source": [
    "U[:,:,2].shape"
   ]
  },
  {
   "cell_type": "code",
   "execution_count": 152,
   "id": "9453fc1e",
   "metadata": {},
   "outputs": [
    {
     "data": {
      "text/plain": [
       "<function matplotlib.pyplot.show(close=None, block=None)>"
      ]
     },
     "execution_count": 152,
     "metadata": {},
     "output_type": "execute_result"
    },
    {
     "data": {
      "image/png": "[encoded data removed]",
      "text/plain": [
       "<Figure size 432x288 with 1 Axes>"
      ]
     },
     "metadata": {
      "needs_background": "light"
     },
     "output_type": "display_data"
    }
   ],
   "source": [
    "for i in range(0,20): #gibbs phenomenon. why?\n",
    "        plt.plot(timenp[-1,:])\n",
    "    #plt.plot(w[-1,:,:].cpu().detach().numpy())\n",
    "        plt.plot(U[-1,:,-1].cpu().numpy())\n",
    "\n",
    "plt.show\n"
   ]
  },
  {
   "cell_type": "code",
   "execution_count": null,
   "id": "412cf22b",
   "metadata": {},
   "outputs": [],
   "source": [
    "timenp.shape"
   ]
  },
  {
   "cell_type": "code",
   "execution_count": null,
   "id": "37fdd0cf",
   "metadata": {},
   "outputs": [],
   "source": [
    "plt.plot(xfield.detach().numpy(), sinfield[-1,:].cpu().detach().numpy()) #I learned with smaller dt=0.02 but it gives gibbs phenomenon\n",
    "plt.plot(xfield.detach().numpy(), timenp[48,:], 'b')\n",
    "plt.plot(X, U[:,49])\n",
    "\n",
    "plt.show()\n",
    "\n",
    "#Ok, so in this learning there was no capturing of the shock phenomenon. But still, the operator learns the correct\n",
    "#direction of dynamics and when the shock starts to form, it gives gibbs phenemonon. Maybe, related to the fact\n",
    "#fourier gives gibbs phenomenon when dealing with sharp functions."
   ]
  },
  {
   "cell_type": "markdown",
   "id": "b7c0a9d3",
   "metadata": {},
   "source": [
    "# Time Plotting - dt = 1"
   ]
  },
  {
   "cell_type": "code",
   "execution_count": null,
   "id": "63fd2323",
   "metadata": {},
   "outputs": [],
   "source": [
    "plt.plot(sinfield[-1,:].cpu().detach().numpy()) #Comparison for the first timestep\n",
    "plt.plot(w[-1,:].cpu().detach().numpy(), 'b')\n",
    "plt.plot(U[:,-1])\n",
    "\n",
    "plt.show()"
   ]
  },
  {
   "cell_type": "code",
   "execution_count": null,
   "id": "b82cc3c9",
   "metadata": {},
   "outputs": [],
   "source": [
    "plt.plot(sinfield[-1,:].cpu().detach().numpy()) #Comparison for the second timestep\n",
    "plt.plot(timenp[1,:], 'b')\n",
    "plt.plot(U[:,-1])"
   ]
  },
  {
   "cell_type": "code",
   "execution_count": null,
   "id": "5074b911",
   "metadata": {},
   "outputs": [],
   "source": [
    "plt.plot(sinfield[-1,:].cpu().detach().numpy()) #Comparison for the third timestep\n",
    "plt.plot(timenp[2,:], 'b')\n",
    "plt.plot(U[:,-1])"
   ]
  },
  {
   "cell_type": "code",
   "execution_count": null,
   "id": "fdcda412",
   "metadata": {},
   "outputs": [],
   "source": [
    "plt.plot(sinfield[-1,:].cpu().detach().numpy()) #Comparison for the third timestep\n",
    "plt.plot(timenp[3,:], 'b')\n",
    "plt.plot(U[:,-1])"
   ]
  },
  {
   "cell_type": "code",
   "execution_count": null,
   "id": "36bdd3de",
   "metadata": {},
   "outputs": [],
   "source": [
    "xfield = torch.linspace(0,1,8192)\n",
    "sinfield = np.sin(2*np.pi*xfield)\n",
    "\n",
    "plt.plot(sinfield)\n",
    "\n",
    "sinfield = sinfield.reshape(1,8192,1)\n",
    "sinfield = sinfield.cuda()"
   ]
  },
  {
   "cell_type": "code",
   "execution_count": null,
   "id": "ba312b51",
   "metadata": {},
   "outputs": [],
   "source": [
    "w = model(sinfield)"
   ]
  },
  {
   "cell_type": "markdown",
   "id": "e37ea276",
   "metadata": {},
   "source": [
    "# Burgers Solution"
   ]
  },
  {
   "cell_type": "code",
   "execution_count": 34,
   "id": "8e545741",
   "metadata": {},
   "outputs": [],
   "source": [
    "############## MODULES IMPORTATION ###############\n",
    "import numpy as np\n",
    "from scipy.integrate import odeint\n",
    "\n",
    "\n",
    "############## SET-UP THE PROBLEM ###############\n",
    "\n",
    "mu = 1\n",
    "nu = 1/1000 #kinematic viscosity coefficient\n",
    "    \n",
    "#Spatial mesh\n",
    "L_x = 1 #Range of the domain according to x [m]\n",
    "dx = 1/2156 #Infinitesimal distance\n",
    "N_x = int(L_x/dx) #Points number of the spatial mesh\n",
    "X = np.linspace(0,L_x,2156) #Spatial array\n",
    "\n",
    "#Temporal mesh\n",
    "L_t = 1 #Duration of simulation [s]\n",
    "dt = 0.05  #Infinitesimal time\n",
    "N_t = int(L_t/dt) #Points number of the temporal mesh\n",
    "T = np.linspace(0,L_t,250) #Temporal array\n",
    "\n",
    "#Wave number discretization\n",
    "k = 2*np.pi*np.fft.fftfreq(N_x, d = 1/2156)\n",
    "\n",
    "\n",
    "#Def of the initial condition    \n",
    "u0 = np.sin(4*np.pi*(X)) #Single space variable fonction that represent the wave form at t = 0\n",
    "# viz_tools.plot_a_frame_1D(X,u0,0,L_x,0,1.2,'Initial condition')\n",
    "\n",
    "#u0 = init_data\n",
    "\n",
    "############## EQUATION SOLVING ###############\n",
    "\n",
    "#Definition of ODE system (PDE ---(FFT)---> ODE system)\n",
    "def burg_system(u,t,k,mu,nu):\n",
    "    #Spatial derivative in the Fourier domain\n",
    "    u_hat = np.fft.fft(u)\n",
    "    u_hat_x = 1j*k*u_hat\n",
    "    u_hat_xx = -k**2*u_hat\n",
    "    \n",
    "    #Switching in the spatial domain\n",
    "    u_x = np.fft.ifft(u_hat_x)\n",
    "    u_xx = np.fft.ifft(u_hat_xx)\n",
    "    \n",
    "    #ODE resolution\n",
    "    u_t = -mu*u*u_x + nu*u_xx\n",
    "    return u_t.real\n",
    "    \n",
    "\n",
    "#PDE resolution (ODE system resolution)\n",
    "U = odeint(burg_system, u0, T, args=(k,mu,nu,), mxstep=5000).T\n"
   ]
  },
  {
   "cell_type": "code",
   "execution_count": 35,
   "id": "968cf428",
   "metadata": {},
   "outputs": [
    {
     "data": {
      "text/plain": [
       "(2156, 250)"
      ]
     },
     "execution_count": 35,
     "metadata": {},
     "output_type": "execute_result"
    }
   ],
   "source": [
    "U.shape"
   ]
  },
  {
   "cell_type": "code",
   "execution_count": 36,
   "id": "b90ee0ef",
   "metadata": {},
   "outputs": [],
   "source": [
    "U = torch.tensor(U, dtype=torch.float)\n",
    "U = U.reshape(1,2156,250)\n",
    "U = U.cuda()"
   ]
  },
  {
   "cell_type": "code",
   "execution_count": null,
   "id": "e2047bf4",
   "metadata": {},
   "outputs": [],
   "source": []
  }
 ],
 "metadata": {
  "kernelspec": {
   "display_name": "Python 3 (ipykernel)",
   "language": "python",
   "name": "python3"
  },
  "language_info": {
   "codemirror_mode": {
    "name": "ipython",
    "version": 3
   },
   "file_extension": ".py",
   "mimetype": "text/x-python",
   "name": "python",
   "nbconvert_exporter": "python",
   "pygments_lexer": "ipython3",
   "version": "3.9.7"
  }
 },
 "nbformat": 4,
 "nbformat_minor": 5
}
