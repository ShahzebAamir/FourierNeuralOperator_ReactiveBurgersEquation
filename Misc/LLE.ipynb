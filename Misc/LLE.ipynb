{
 "cells": [
  {
   "cell_type": "code",
   "execution_count": 6,
   "id": "fa18be62",
   "metadata": {},
   "outputs": [],
   "source": [
    "%run ./LLE.py"
   ]
  },
  {
   "cell_type": "code",
   "execution_count": 78,
   "id": "48ca129c",
   "metadata": {},
   "outputs": [],
   "source": [
    "data_og = np.load('u_original_5.1_10000.npy', allow_pickle=True)[:,-1]"
   ]
  },
  {
   "cell_type": "code",
   "execution_count": 100,
   "id": "1fe9d9b2",
   "metadata": {},
   "outputs": [],
   "source": [
    "x = data_og[15000:16000]\n",
    "m=2\n",
    "tao=150\n",
    "meanperiod=5\n",
    "maxiter=10"
   ]
  },
  {
   "cell_type": "code",
   "execution_count": 101,
   "id": "15bbe1a2",
   "metadata": {},
   "outputs": [],
   "source": [
    "nn = len(x)\n",
    "mm = nn-(m-1)*tao\n",
    "\n",
    "yy = psr_embedded_dim(x,m+1,tao,mm)\n",
    "\n",
    "neardis = np.zeros(mm)\n",
    "nearpos = np.zeros(mm)\n",
    "dd = np.zeros(maxiter)\n",
    "\n",
    "for i in range(mm):\n",
    "    x0 = np.ones([mm,1])*yy[i,:]\n",
    "    distance = sqrt(sum(pow((yy-x0),2),axis=1))\n",
    "    for j in range(mm):\n",
    "        if(np.abs(j-i)<=meanperiod):\n",
    "            distance[j]=1e10 # far away...\n",
    "    neardis[i] = min(distance)\n",
    "    nearpos[i] = int(np.where(distance == min(distance))[0][0])\n"
   ]
  },
  {
   "cell_type": "code",
   "execution_count": 105,
   "id": "266cb54a",
   "metadata": {},
   "outputs": [
    {
     "data": {
      "text/plain": [
       "[<matplotlib.lines.Line2D at 0x7f6bf0192c40>,\n",
       " <matplotlib.lines.Line2D at 0x7f6bf0192ca0>,\n",
       " <matplotlib.lines.Line2D at 0x7f6bf0164b50>]"
      ]
     },
     "execution_count": 105,
     "metadata": {},
     "output_type": "execute_result"
    },
    {
     "data": {
      "image/png": "[encoded data removed]",
      "text/plain": [
       "<Figure size 432x288 with 1 Axes>"
      ]
     },
     "metadata": {
      "needs_background": "light"
     },
     "output_type": "display_data"
    }
   ],
   "source": [
    "plt.plot(x0)"
   ]
  },
  {
   "cell_type": "code",
   "execution_count": 103,
   "id": "fb41e2e5",
   "metadata": {},
   "outputs": [
    {
     "data": {
      "text/plain": [
       "[<matplotlib.lines.Line2D at 0x7f6bf1211220>]"
      ]
     },
     "execution_count": 103,
     "metadata": {},
     "output_type": "execute_result"
    },
    {
     "data": {
      "image/png": "[encoded data removed]",
      "text/plain": [
       "<Figure size 432x288 with 1 Axes>"
      ]
     },
     "metadata": {
      "needs_background": "light"
     },
     "output_type": "display_data"
    }
   ],
   "source": [
    "plt.plot(distance)"
   ]
  },
  {
   "cell_type": "code",
   "execution_count": 90,
   "id": "5de30e47",
   "metadata": {},
   "outputs": [
    {
     "data": {
      "text/plain": [
       "[<matplotlib.lines.Line2D at 0x7f6bf1293640>]"
      ]
     },
     "execution_count": 90,
     "metadata": {},
     "output_type": "execute_result"
    },
    {
     "data": {
      "image/png": "[encoded data removed]",
      "text/plain": [
       "<Figure size 432x288 with 1 Axes>"
      ]
     },
     "metadata": {
      "needs_background": "light"
     },
     "output_type": "display_data"
    }
   ],
   "source": [
    "for k in range(maxiter):\n",
    "    maxind=mm-k\n",
    "    evolve=0\n",
    "    pnt=0\n",
    "    for j in range(mm):\n",
    "        if (j<maxind and nearpos[j]<= maxind):\n",
    "            dist_k = np.sqrt(np.sum(np.power(yy[j+k-1,:]-yy[int(nearpos[j])+k-1,:],2)))  \n",
    "            if(dist_k != 0.0):\n",
    "                evolve = evolve+log(dist_k)\n",
    "                pnt += 1\n",
    "    if pnt > 0:\n",
    "        dd[k] = evolve/float(pnt)\n",
    "    else:\n",
    "        dd[k] = 0\n",
    "\n",
    "\n",
    "tlinear = np.linspace(800,len(dd)-1,len(dd)) \n",
    "ff = np.polyfit(tlinear,dd,1)\n",
    "polynomial = np.poly1d(ff)\n",
    "ys = polynomial(tlinear)\n",
    "#plot(tlinear,ys,'g-')\n",
    "#plot(tlinear,dd)\n",
    "#xlabel('time', fontsize=20)\n",
    "#ylabel('<ln(divergence)>', fontsize=20)\n",
    "#show()\n",
    "lle = ff[0]"
   ]
  },
  {
   "cell_type": "code",
   "execution_count": 62,
   "id": "a850a843",
   "metadata": {},
   "outputs": [],
   "source": [
    "def psr_embedded_dim(x,m,tao,npoint):\n",
    "    ''' phase space reconstruction \n",
    "    x: time series\n",
    "    m: embedding dimension\n",
    "    tao: time delay\n",
    "    npoint: total number of points\n",
    "    return y: M x mm matrix\n",
    "    '''\n",
    "    n = len(x)\n",
    "    mm = npoint #or m=n-(m-1)*tao\n",
    "    \n",
    "    y = np.zeros([mm,m])\n",
    "\n",
    "    for i in range(m):\n",
    "        idx = np.linspace(0,mm-1,mm)\n",
    "        tmp_idx = idx+((i-1)*tao)\n",
    "        b = tmp_idx.astype(int)\n",
    "        y[:,i] = x[b].T\n",
    "\n",
    "    return y"
   ]
  },
  {
   "cell_type": "code",
   "execution_count": 65,
   "id": "25cfbf5d",
   "metadata": {},
   "outputs": [],
   "source": [
    "y=psr_embedded_dim(data_og,3,82,1000)"
   ]
  },
  {
   "cell_type": "code",
   "execution_count": null,
   "id": "794b782e",
   "metadata": {},
   "outputs": [],
   "source": []
  }
 ],
 "metadata": {
  "kernelspec": {
   "display_name": "Python 3 (ipykernel)",
   "language": "python",
   "name": "python3"
  },
  "language_info": {
   "codemirror_mode": {
    "name": "ipython",
    "version": 3
   },
   "file_extension": ".py",
   "mimetype": "text/x-python",
   "name": "python",
   "nbconvert_exporter": "python",
   "pygments_lexer": "ipython3",
   "version": "3.9.7"
  }
 },
 "nbformat": 4,
 "nbformat_minor": 5
}
